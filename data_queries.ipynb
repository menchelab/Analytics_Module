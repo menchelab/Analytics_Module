{
 "cells": [
  {
   "cell_type": "code",
   "execution_count": 1,
   "metadata": {},
   "outputs": [],
   "source": [
    "# These are all the imports you need. You may have to run pip install requests or conda install requests.\n",
    "import requests\n",
    "import json"
   ]
  },
  {
   "cell_type": "markdown",
   "metadata": {},
   "source": [
    "# Querying data"
   ]
  },
  {
   "cell_type": "code",
   "execution_count": 2,
   "metadata": {},
   "outputs": [],
   "source": [
    "USERNAME='steveballmer'\n",
    "PASSWORD='code peaceful canon shorter'\n",
    "AUTH=(USERNAME, PASSWORD)"
   ]
  },
  {
   "cell_type": "code",
   "execution_count": 5,
   "metadata": {},
   "outputs": [
    {
     "data": {
      "text/plain": [
       "[{'id': 1, 'name': 'acid sensing ion channel subunit 1', 'symbol': 'ASIC1'},\n",
       " {'id': 2, 'name': 'regulator of G-protein signaling 4', 'symbol': 'RGS4'},\n",
       " {'id': 3, 'name': 'regulator of G-protein signaling 5', 'symbol': 'RGS5'},\n",
       " {'id': 4, 'name': 'regulator of G-protein signaling 6', 'symbol': 'RGS6'},\n",
       " {'id': 5, 'name': 'regulator of G-protein signaling 7', 'symbol': 'RGS7'},\n",
       " {'id': 6, 'name': 'regulator of G-protein signaling 9', 'symbol': 'RGS9'},\n",
       " {'id': 7, 'name': 'Rh-associated glycoprotein', 'symbol': 'RHAG'},\n",
       " {'id': 8, 'name': 'rhomboid like 1', 'symbol': 'RHBDL1'},\n",
       " {'id': 10, 'name': 'Rh blood group D antigen', 'symbol': 'RHD'},\n",
       " {'id': 11, 'name': 'B-cell CLL/lymphoma 6', 'symbol': 'BCL6'}]"
      ]
     },
     "execution_count": 5,
     "metadata": {},
     "output_type": "execute_result"
    }
   ],
   "source": [
    "# Getting a list of all nodes (genes). Symbol is the Entrez ID.\n",
    "data = requests.get('http://asimov.westeurope.cloudapp.azure.com:8887/api/ppi/node',\n",
    "             auth=AUTH)\n",
    "parsed_data = json.loads(data.text)\n",
    "parsed_data[:10]"
   ]
  },
  {
   "cell_type": "code",
   "execution_count": 10,
   "metadata": {},
   "outputs": [
    {
     "name": "stdout",
     "output_type": "stream",
     "text": [
      "prefix=RGS\n"
     ]
    },
    {
     "data": {
      "text/plain": [
       "[2,\n",
       " 3,\n",
       " 4,\n",
       " 5,\n",
       " 6,\n",
       " 2622,\n",
       " 2834,\n",
       " 2930,\n",
       " 3174,\n",
       " 4598,\n",
       " 5976,\n",
       " 8394,\n",
       " 9154,\n",
       " 13181,\n",
       " 19467,\n",
       " 19468,\n",
       " 19469,\n",
       " 19470,\n",
       " 19471,\n",
       " 19472,\n",
       " 19473,\n",
       " 19474,\n",
       " 19475]"
      ]
     },
     "execution_count": 10,
     "metadata": {},
     "output_type": "execute_result"
    }
   ],
   "source": [
    "# Get a string of node IDs that can be used in another query\n",
    "\n",
    "def ids_for_entrez(entrez_ids):\n",
    "    entrez_string = \"&\".join([\"prefix=%s\" % entrez for entrez in entrez_ids])\n",
    "    print(entrez_string)\n",
    "    data = requests.get('http://asimov.westeurope.cloudapp.azure.com:8887/api/ppi/node?' + entrez_string,\n",
    "             auth=AUTH)\n",
    "    parsed_data = json.loads(data.text)\n",
    "    return [node[\"id\"] for node in parsed_data]"
   ]
  },
  {
   "cell_type": "code",
   "execution_count": 48,
   "metadata": {},
   "outputs": [
    {
     "name": "stdout",
     "output_type": "stream",
     "text": [
      "prefix=RAG1&prefix=RAG2&prefix=TYK2\n"
     ]
    },
    {
     "data": {
      "text/plain": [
       "[19335]"
      ]
     },
     "execution_count": 48,
     "metadata": {},
     "output_type": "execute_result"
    }
   ],
   "source": [
    "ids_for_entrez(['RAG1', 'RAG2', 'TYK2'])"
   ]
  },
  {
   "cell_type": "code",
   "execution_count": 30,
   "metadata": {},
   "outputs": [
    {
     "data": {
      "text/plain": [
       "[{'id': 191, 'name': 'biglycan', 'symbol': 'BGN'},\n",
       " {'id': 231, 'name': 'BICD cargo adaptor 1', 'symbol': 'BICD1'},\n",
       " {'id': 242, 'name': 'BH3 interacting domain death agonist', 'symbol': 'BID'},\n",
       " {'id': 245, 'name': 'BCL2 interacting killer', 'symbol': 'BIK'},\n",
       " {'id': 251, 'name': 'bridging integrator 1', 'symbol': 'BIN1'},\n",
       " {'id': 259, 'name': 'bridging integrator 2', 'symbol': 'BIN2'},\n",
       " {'id': 268, 'name': 'bridging integrator 3', 'symbol': 'BIN3'},\n",
       " {'id': 329, 'name': 'biliverdin reductase A', 'symbol': 'BLVRA'},\n",
       " {'id': 339, 'name': 'biliverdin reductase B', 'symbol': 'BLVRB'},\n",
       " {'id': 582, 'name': 'bisphosphoglycerate mutase', 'symbol': 'BPGM'}]"
      ]
     },
     "execution_count": 30,
     "metadata": {},
     "output_type": "execute_result"
    }
   ],
   "source": [
    "# Getting a list of all nodes (genes) whose names or entrez IDs start with \"BI\" (not case-sensitive)\n",
    "\n",
    "data = requests.get('http://asimov.westeurope.cloudapp.azure.com:8887/api/ppi/node?prefix=bi',\n",
    "             auth=AUTH)\n",
    "parsed_data = json.loads(data.text)\n",
    "parsed_data[:10]"
   ]
  },
  {
   "cell_type": "code",
   "execution_count": 38,
   "metadata": {},
   "outputs": [
    {
     "name": "stdout",
     "output_type": "stream",
     "text": [
      "Node found:  {'id': 582, 'name': 'bisphosphoglycerate mutase', 'symbol': 'BPGM'}\n"
     ]
    },
    {
     "data": {
      "text/plain": [
       "[{'description': '\"Catalysis of the reaction',\n",
       "  'external_id': 'GO:0004082',\n",
       "  'full_name': '',\n",
       "  'id': 19473,\n",
       "  'name': 'bisphosphoglycerate mutase activity',\n",
       "  'value': None},\n",
       " {'description': '\"Catalysis of the transfer of a phosphate group from one position to another within a single molecule.\" [GOC:mah]',\n",
       "  'external_id': 'GO:0016868',\n",
       "  'full_name': '',\n",
       "  'id': 27185,\n",
       "  'name': 'intramolecular transferase activity, phosphotransferases',\n",
       "  'value': None},\n",
       " {'description': '\"Catalysis of the transfer of a functional group from one position to another within a single molecule.\" [GOC:mah]',\n",
       "  'external_id': 'GO:0016866',\n",
       "  'full_name': '/',\n",
       "  'id': 27183,\n",
       "  'name': 'intramolecular transferase activity',\n",
       "  'value': None},\n",
       " {'description': '\"Catalysis of the geometric or structural changes within one molecule. Isomerase is the systematic name for any enzyme of EC class 5.\" [ISBN:0198506732]',\n",
       "  'external_id': 'GO:0016853',\n",
       "  'full_name': '//',\n",
       "  'id': 27170,\n",
       "  'name': 'isomerase activity',\n",
       "  'value': None},\n",
       " {'description': '\"Catalysis of a biochemical reaction at physiological temperatures. In biologically catalyzed reactions, the reactants are known as substrates, and the catalysts are naturally occurring macromolecular substances known as enzymes. Enzymes possess specific binding sites for substrates, and are usually composed wholly or largely of protein, but RNA that has catalytic activity (ribozyme) is often also regarded as enzymatic.\" [GOC:vw, ISBN:0198506732]',\n",
       "  'external_id': 'GO:0003824',\n",
       "  'full_name': '///',\n",
       "  'id': 19240,\n",
       "  'name': 'catalytic activity',\n",
       "  'value': None},\n",
       " {'description': '\"A molecular process that can be carried out by the action of a single macromolecular machine, usually via direct physical interactions with other molecular entities. Function in this sense denotes an action, or activity, that a gene product (or a complex) performs. These actions are described from two distinct but related perspectives',\n",
       "  'external_id': 'GO:0003674',\n",
       "  'full_name': '////',\n",
       "  'id': 19123,\n",
       "  'name': 'molecular_function',\n",
       "  'value': None},\n",
       " {'description': '\"The part of the cytoplasm that does not contain organelles but which does contain other particulate matter, such as protein complexes.\" [GOC:hjd, GOC:jl]',\n",
       "  'external_id': 'GO:0005829',\n",
       "  'full_name': '',\n",
       "  'id': 20913,\n",
       "  'name': 'cytosol',\n",
       "  'value': None},\n",
       " {'description': '\"Any constituent part of the cytoplasm, all of the contents of a cell excluding the plasma membrane and nucleus, but including other subcellular structures.\" [GOC:jl]',\n",
       "  'external_id': 'GO:0044444',\n",
       "  'full_name': '',\n",
       "  'id': 39004,\n",
       "  'name': 'cytoplasmic part',\n",
       "  'value': None},\n",
       " {'description': '\"Any constituent part of the living contents of a cell; the matter contained within (but not including) the plasma membrane, usually taken to exclude large vacuoles and masses of secretory or ingested material. In eukaryotes it includes the nucleus and cytoplasm.\" [GOC:jl]',\n",
       "  'external_id': 'GO:0044424',\n",
       "  'full_name': '/',\n",
       "  'id': 38985,\n",
       "  'name': 'intracellular part',\n",
       "  'value': None},\n",
       " {'description': '\"Any constituent part of a cell, the basic structural and functional unit of all organisms.\" [GOC:jl]',\n",
       "  'external_id': 'GO:0044464',\n",
       "  'full_name': '//',\n",
       "  'id': 39024,\n",
       "  'name': 'cell part',\n",
       "  'value': None}]"
      ]
     },
     "execution_count": 38,
     "metadata": {},
     "output_type": "execute_result"
    }
   ],
   "source": [
    "# Getting a list of all attributes that one node has\n",
    "entrez = 'BPGM'\n",
    "data = requests.get('http://asimov.westeurope.cloudapp.azure.com:8887/api/ppi/node?prefix=%s' % entrez,\n",
    "             auth=AUTH)\n",
    "results = json.loads(data.text)\n",
    "if len(results) > 1:\n",
    "    print(\"WARNING!!! Multiple matching nodes found\")\n",
    "    print(results)\n",
    "node = results[0]\n",
    "node = json.loads(data.text)[0]\n",
    "print(\"Node found: \", node)\n",
    "\n",
    "data = requests.get('http://asimov.westeurope.cloudapp.azure.com:8887/api/ppi/attribute?node_id=%s' % node[\"id\"],\n",
    "             auth=AUTH)\n",
    "parsed_data = json.loads(data.text)\n",
    "parsed_data[:10]"
   ]
  },
  {
   "cell_type": "code",
   "execution_count": 22,
   "metadata": {},
   "outputs": [
    {
     "data": {
      "text/plain": [
       "['DISEASE',\n",
       " 'biological_process',\n",
       " 'molecular_function',\n",
       " 'cellular_component',\n",
       " 'PATHWAY',\n",
       " 'TISSUE',\n",
       " 'SELECTION',\n",
       " 'HUMAN_PHENOTYPE']"
      ]
     },
     "execution_count": 22,
     "metadata": {},
     "output_type": "execute_result"
    }
   ],
   "source": [
    "# See what attribute namespaces (attribute types) we have\n",
    "data = requests.get('http://asimov.westeurope.cloudapp.azure.com:8887/api/ppi/attribute/namespaces',\n",
    "             auth=AUTH)\n",
    "parsed_data = json.loads(data.text)\n",
    "parsed_data"
   ]
  },
  {
   "cell_type": "code",
   "execution_count": 43,
   "metadata": {},
   "outputs": [
    {
     "data": {
      "text/plain": [
       "[{'external_id': 'HP:0000002',\n",
       "  'id': 67972,\n",
       "  'name': 'Abnormality of body height',\n",
       "  'namespace': 'HUMAN_PHENOTYPE'},\n",
       " {'external_id': 'HP:0000008',\n",
       "  'id': 67977,\n",
       "  'name': 'Abnormality of female internal genitalia',\n",
       "  'namespace': 'HUMAN_PHENOTYPE'},\n",
       " {'external_id': 'HP:0000014',\n",
       "  'id': 67983,\n",
       "  'name': 'Abnormality of the bladder',\n",
       "  'namespace': 'HUMAN_PHENOTYPE'},\n",
       " {'external_id': 'HP:0000022',\n",
       "  'id': 67990,\n",
       "  'name': 'Abnormality of male internal genitalia',\n",
       "  'namespace': 'HUMAN_PHENOTYPE'},\n",
       " {'external_id': 'HP:0000032',\n",
       "  'id': 68000,\n",
       "  'name': 'Abnormality of male external genitalia',\n",
       "  'namespace': 'HUMAN_PHENOTYPE'},\n",
       " {'external_id': 'HP:0000035',\n",
       "  'id': 68003,\n",
       "  'name': 'Abnormality of the testis',\n",
       "  'namespace': 'HUMAN_PHENOTYPE'},\n",
       " {'external_id': 'HP:0000036',\n",
       "  'id': 68004,\n",
       "  'name': 'Abnormality of the penis',\n",
       "  'namespace': 'HUMAN_PHENOTYPE'},\n",
       " {'external_id': 'HP:0000045',\n",
       "  'id': 68011,\n",
       "  'name': 'Abnormality of the scrotum',\n",
       "  'namespace': 'HUMAN_PHENOTYPE'},\n",
       " {'external_id': 'HP:0000055',\n",
       "  'id': 68021,\n",
       "  'name': 'Abnormality of female external genitalia',\n",
       "  'namespace': 'HUMAN_PHENOTYPE'},\n",
       " {'external_id': 'HP:0000056',\n",
       "  'id': 68022,\n",
       "  'name': 'Abnormality of the clitoris',\n",
       "  'namespace': 'HUMAN_PHENOTYPE'}]"
      ]
     },
     "execution_count": 43,
     "metadata": {},
     "output_type": "execute_result"
    }
   ],
   "source": [
    "# See all HUMAN PHENOTYPE attributes that start with \"abnormal\" (case-insensitive)\n",
    "data = requests.get('http://asimov.westeurope.cloudapp.azure.com:8887/api/ppi/attribute?namespace=HUMAN_PHENOTYPE&prefix=abnormal',\n",
    "             auth=AUTH)\n",
    "parsed_data = json.loads(data.text)\n",
    "parsed_data[:10]"
   ]
  },
  {
   "cell_type": "code",
   "execution_count": 42,
   "metadata": {},
   "outputs": [
    {
     "name": "stdout",
     "output_type": "stream",
     "text": [
      "Attribute found:  {'external_id': 'HP:0000002', 'id': 67972, 'name': 'Abnormality of body height', 'namespace': 'HUMAN_PHENOTYPE'}\n"
     ]
    },
    {
     "data": {
      "text/plain": [
       "[{'id': 13478, 'name': 'dual specificity phosphatase 6', 'symbol': 'DUSP6'},\n",
       " {'id': 14841, 'name': 'fibroblast growth factor 8', 'symbol': 'FGF8'},\n",
       " {'id': 14843,\n",
       "  'name': 'fibroblast growth factor receptor 1',\n",
       "  'symbol': 'FGFR1'},\n",
       " {'id': 12860,\n",
       "  'name': 'NMDA receptor synaptonuclear signaling and neuronal migration factor',\n",
       "  'symbol': 'NSMF'},\n",
       " {'id': 15508, 'name': 'gonadotropin releasing hormone 1', 'symbol': 'GNRH1'},\n",
       " {'id': 15519,\n",
       "  'name': 'gonadotropin releasing hormone receptor',\n",
       "  'symbol': 'GNRHR'},\n",
       " {'id': 16860, 'name': 'anosmin 1', 'symbol': 'ANOS1'},\n",
       " {'id': 16976, 'name': 'KiSS-1 metastasis-suppressor', 'symbol': 'KISS1'},\n",
       " {'id': 7209,\n",
       "  'name': 'chromodomain helicase DNA binding protein 7',\n",
       "  'symbol': 'CHD7'},\n",
       " {'id': 2678, 'name': 'WD repeat domain 11', 'symbol': 'WDR11'},\n",
       " {'id': 1087, 'name': 'tachykinin 3', 'symbol': 'TAC3'},\n",
       " {'id': 1093, 'name': 'tachykinin receptor 3', 'symbol': 'TACR3'},\n",
       " {'id': 3723, 'name': 'sprouty RTK signaling antagonist 4', 'symbol': 'SPRY4'},\n",
       " {'id': 15639, 'name': 'KISS1 receptor', 'symbol': 'KISS1R'},\n",
       " {'id': 14827, 'name': 'fibroblast growth factor 17', 'symbol': 'FGF17'},\n",
       " {'id': 16208,\n",
       "  'name': 'heparan sulfate 6-O-sulfotransferase 1',\n",
       "  'symbol': 'HS6ST1'}]"
      ]
     },
     "execution_count": 42,
     "metadata": {},
     "output_type": "execute_result"
    }
   ],
   "source": [
    "# Getting a list of all nodes that have a specific attribute (Using attribute name)\n",
    "attribute = 'Abnormality of body height'\n",
    "data = requests.get('http://asimov.westeurope.cloudapp.azure.com:8887/api/ppi/attribute?prefix=%s' % attribute,\n",
    "             auth=AUTH)\n",
    "results = json.loads(data.text)\n",
    "if len(results) > 1:\n",
    "    print(\"WARNING!!! Multiple matching attributes found\")\n",
    "    print(results)\n",
    "node = results[0]\n",
    "print(\"Attribute found: \", node)\n",
    "\n",
    "data = requests.get('http://asimov.westeurope.cloudapp.azure.com:8887/api/ppi/node?attribute_id=%s' % node[\"id\"],\n",
    "             auth=AUTH)\n",
    "parsed_data = json.loads(data.text)\n",
    "parsed_data"
   ]
  },
  {
   "cell_type": "code",
   "execution_count": 46,
   "metadata": {},
   "outputs": [
    {
     "name": "stdout",
     "output_type": "stream",
     "text": [
      "Attribute found:  {'external_id': 'GO:0016868', 'id': 27185, 'name': 'intramolecular transferase activity, phosphotransferases', 'namespace': 'molecular_function'}\n"
     ]
    },
    {
     "data": {
      "text/plain": [
       "[{'id': 582, 'name': 'bisphosphoglycerate mutase', 'symbol': 'BPGM'},\n",
       " {'id': 18610, 'name': 'phosphoglucomutase 3', 'symbol': 'PGM3'},\n",
       " {'id': 18608, 'name': 'phosphoglucomutase 1', 'symbol': 'PGM1'},\n",
       " {'id': 18611, 'name': 'phosphoglucomutase 5', 'symbol': 'PGM5'},\n",
       " {'id': 7402, 'name': 'phosphoglucomutase 2 like 1', 'symbol': 'PGM2L1'},\n",
       " {'id': 18609, 'name': 'phosphoglucomutase 2', 'symbol': 'PGM2'},\n",
       " {'id': 18778, 'name': 'phosphomannomutase 2', 'symbol': 'PMM2'},\n",
       " {'id': 18777, 'name': 'phosphomannomutase 1', 'symbol': 'PMM1'},\n",
       " {'id': 18597, 'name': 'phosphoglycerate mutase 2', 'symbol': 'PGAM2'},\n",
       " {'id': 18596, 'name': 'phosphoglycerate mutase 1', 'symbol': 'PGAM1'},\n",
       " {'id': 7906,\n",
       "  'name': 'phosphoglycerate mutase family member 4',\n",
       "  'symbol': 'PGAM4'}]"
      ]
     },
     "execution_count": 46,
     "metadata": {},
     "output_type": "execute_result"
    }
   ],
   "source": [
    "# Getting a list of all nodes that have a specific attribute (Using attribute external ID)\n",
    "attribute = 'GO:0016868'\n",
    "data = requests.get('http://asimov.westeurope.cloudapp.azure.com:8887/api/ppi/attribute?external_ids=%s' % attribute,\n",
    "             auth=AUTH)\n",
    "results = json.loads(data.text)\n",
    "if len(results) > 1:\n",
    "    print(\"WARNING!!! Multiple matching attributes found\")\n",
    "    print(results)\n",
    "node = results[0]\n",
    "print(\"Attribute found: \", node)\n",
    "\n",
    "data = requests.get('http://asimov.westeurope.cloudapp.azure.com:8887/api/ppi/node?attribute_id=%s' % node[\"id\"],\n",
    "             auth=AUTH)\n",
    "parsed_data = json.loads(data.text)\n",
    "parsed_data"
   ]
  },
  {
   "cell_type": "code",
   "execution_count": 20,
   "metadata": {},
   "outputs": [
    {
     "name": "stdout",
     "output_type": "stream",
     "text": [
      "Attribute found:  {'id': 67972, 'name': 'Abnormality of body height', 'namespace': 'HUMAN_PHENOTYPE'}\n",
      "NODES:  [{'id': 13478, 'name': 'dual specificity phosphatase 6', 'symbol': 'DUSP6'}, {'id': 14841, 'name': 'fibroblast growth factor 8', 'symbol': 'FGF8'}, {'id': 14843, 'name': 'fibroblast growth factor receptor 1', 'symbol': 'FGFR1'}, {'id': 12860, 'name': 'NMDA receptor synaptonuclear signaling and neuronal migration factor', 'symbol': 'NSMF'}, {'id': 15508, 'name': 'gonadotropin releasing hormone 1', 'symbol': 'GNRH1'}, {'id': 15519, 'name': 'gonadotropin releasing hormone receptor', 'symbol': 'GNRHR'}, {'id': 16860, 'name': 'anosmin 1', 'symbol': 'ANOS1'}, {'id': 16976, 'name': 'KiSS-1 metastasis-suppressor', 'symbol': 'KISS1'}, {'id': 7209, 'name': 'chromodomain helicase DNA binding protein 7', 'symbol': 'CHD7'}, {'id': 2678, 'name': 'WD repeat domain 11', 'symbol': 'WDR11'}] EDGES:  [{'source': 1087, 'target': 1093}, {'source': 1093, 'target': 1087}, {'source': 2678, 'target': 14841}, {'source': 14827, 'target': 14843}, {'source': 14841, 'target': 2678}, {'source': 14841, 'target': 14843}, {'source': 14843, 'target': 14827}, {'source': 14843, 'target': 14841}, {'source': 14843, 'target': 16860}, {'source': 15508, 'target': 15519}]\n"
     ]
    }
   ],
   "source": [
    "# Get a subgraph of all nodes that share a given attribute\n",
    "attribute = 'Abnormality of body height'\n",
    "data = requests.get('http://asimov.westeurope.cloudapp.azure.com:8887/api/ppi/attribute?prefix=%s' % attribute,\n",
    "             auth=AUTH)\n",
    "results = json.loads(data.text)\n",
    "if len(results) > 1:\n",
    "    print(\"WARNING!!! Multiple matching attributes found\")\n",
    "    print(results)\n",
    "node = results[0]\n",
    "print(\"Attribute found: \", node)\n",
    "\n",
    "data = requests.get('http://asimov.westeurope.cloudapp.azure.com:8887/api/ppi/subgraph?attribute_id=%s'%node[\"id\"],\n",
    "             auth=AUTH)\n",
    "parsed_data = json.loads(data.text)\n",
    "print(\"NODES: \", parsed_data[\"nodes\"][:10], \"EDGES: \", parsed_data[\"edges\"][:10])"
   ]
  },
  {
   "cell_type": "code",
   "execution_count": 26,
   "metadata": {},
   "outputs": [
    {
     "name": "stdout",
     "output_type": "stream",
     "text": [
      "Node found:  {'id': 582, 'name': 'bisphosphoglycerate mutase', 'symbol': 'BPGM'}\n",
      "[{'id': 3927, 'name': 'MRG domain binding protein', 'symbol': 'MRGBP'}, {'id': 4644, 'name': 'Kruppel like factor 16', 'symbol': 'KLF16'}, {'id': 4698, 'name': 'catenin beta interacting protein 1', 'symbol': 'CTNNBIP1'}, {'id': 5191, 'name': 'spen family transcriptional repressor', 'symbol': 'SPEN'}, {'id': 5865, 'name': 'carboxyl ester lipase', 'symbol': 'CEL'}, {'id': 9624, 'name': 'biorientation of chromosomes in cell division 1', 'symbol': 'BOD1'}, {'id': 9680, 'name': 'FLYWCH family member 2', 'symbol': 'FLYWCH2'}, {'id': 11907, 'name': 'IQ motif containing F1', 'symbol': 'IQCF1'}, {'id': 14000, 'name': 'early growth response 2', 'symbol': 'EGR2'}, {'id': 14024, 'name': 'EH domain containing 2', 'symbol': 'EHD2'}, {'id': 14051, 'name': 'eukaryotic translation initiation factor 1A, X-linked', 'symbol': 'EIF1AX'}, {'id': 15091, 'name': 'AKT serine/threonine kinase 1', 'symbol': 'AKT1'}, {'id': 15274, 'name': 'glyceraldehyde-3-phosphate dehydrogenase', 'symbol': 'GAPDH'}, {'id': 15689, 'name': 'growth factor receptor bound protein 2', 'symbol': 'GRB2'}, {'id': 15936, 'name': 'high density lipoprotein binding protein', 'symbol': 'HDLBP'}, {'id': 17844, 'name': 'neutrophil cytosolic factor 2', 'symbol': 'NCF2'}, {'id': 17911, 'name': 'NIMA related kinase 3', 'symbol': 'NEK3'}, {'id': 18035, 'name': 'activating transcription factor 6', 'symbol': 'ATF6'}, {'id': 18084, 'name': 'nuclear receptor binding protein 1', 'symbol': 'NRBP1'}, {'id': 18235, 'name': 'ATPase H+/K+ transporting beta subunit', 'symbol': 'ATP4B'}, {'id': 18597, 'name': 'phosphoglycerate mutase 2', 'symbol': 'PGAM2'}, {'id': 18900, 'name': 'protein phosphatase, Mg2+/Mn2+ dependent 1B', 'symbol': 'PPM1B'}]\n"
     ]
    }
   ],
   "source": [
    "# Get the neighbors of a given node\n",
    "entrez = 'BPGM'\n",
    "data = requests.get('http://asimov.westeurope.cloudapp.azure.com:8887/api/ppi/node?prefix=%s' % entrez,\n",
    "             auth=AUTH)\n",
    "results = json.loads(data.text)\n",
    "if len(results) > 1:\n",
    "    print(\"WARNING!!! Multiple matching nodes found\")\n",
    "    print(results)\n",
    "node = results[0]\n",
    "node = json.loads(data.text)[0]\n",
    "print(\"Node found: \", node)\n",
    "\n",
    "# Note that you can also pass multiple neighbors\n",
    "data = requests.get('http://asimov.westeurope.cloudapp.azure.com:8887/api/ppi/node?neighbor=%s' % node['id'],\n",
    "             auth=AUTH)\n",
    "parsed_data = json.loads(data.text)\n",
    "print(parsed_data)"
   ]
  },
  {
   "cell_type": "code",
   "execution_count": 47,
   "metadata": {},
   "outputs": [
    {
     "name": "stdout",
     "output_type": "stream",
     "text": [
      "Node found:  {'id': 582, 'name': 'bisphosphoglycerate mutase', 'symbol': 'BPGM'}\n",
      "[{'frequency': 0.30278, 'id': 5}, {'frequency': 0.2995, 'id': 8}, {'frequency': 0.29908, 'id': 2}, {'frequency': 0.00628, 'id': 6198}, {'frequency': 0.00611, 'id': 12234}, {'frequency': 0.00608, 'id': 16820}, {'frequency': 0.00587, 'id': 12780}, {'frequency': 0.00523, 'id': 15944}, {'frequency': 0.0038, 'id': 15469}, {'frequency': 0.0038, 'id': 15471}, {'frequency': 0.00353, 'id': 15465}, {'frequency': 0.00231, 'id': 3831}, {'frequency': 0.0023, 'id': 19151}, {'frequency': 0.00222, 'id': 8075}, {'frequency': 0.00219, 'id': 15207}, {'frequency': 0.00214, 'id': 8072}, {'frequency': 0.00214, 'id': 13116}, {'frequency': 0.00213, 'id': 13991}, {'frequency': 0.0021, 'id': 3973}, {'frequency': 0.00201, 'id': 14536}, {'frequency': 0.00197, 'id': 3049}, {'frequency': 0.00182, 'id': 15476}, {'frequency': 0.00178, 'id': 17667}, {'frequency': 0.00175, 'id': 15466}, {'frequency': 0.00173, 'id': 15484}, {'frequency': 0.00172, 'id': 15467}, {'frequency': 0.0017, 'id': 15035}, {'frequency': 0.00164, 'id': 17461}, {'frequency': 0.00161, 'id': 16244}, {'frequency': 0.0016, 'id': 16243}, {'frequency': 0.00159, 'id': 18691}, {'frequency': 0.00158, 'id': 4912}, {'frequency': 0.00156, 'id': 8625}, {'frequency': 0.00153, 'id': 2069}, {'frequency': 0.00152, 'id': 4200}, {'frequency': 0.00148, 'id': 19004}, {'frequency': 0.0014, 'id': 18739}, {'frequency': 0.00136, 'id': 2065}]\n"
     ]
    }
   ],
   "source": [
    "# Random walk\n",
    "# Get the neighbors of a given node\n",
    "entrez = 'BPGM'\n",
    "data = requests.get('http://asimov.westeurope.cloudapp.azure.com:8887/api/ppi/node?prefix=%s' % entrez,\n",
    "             auth=AUTH)\n",
    "results = json.loads(data.text)\n",
    "if len(results) > 1:\n",
    "    print(\"WARNING!!! Multiple matching nodes found\")\n",
    "    print(results)\n",
    "node = results[0]\n",
    "node = json.loads(data.text)[0]\n",
    "print(\"Node found: \", node)\n",
    "\n",
    "# Note that you can also pass multiple neighbors\n",
    "data = requests.get(\n",
    "    'http://asimov.westeurope.cloudapp.azure.com:8887/api/ppi/node/random_walk?' +\n",
    "    'restart_probability=0.9&min_frequency=0.0001&node_ids=%s' % node['id'],\n",
    "             auth=AUTH)\n",
    "\n",
    "parsed_data = json.loads(data.text)\n",
    "print(parsed_data)"
   ]
  },
  {
   "cell_type": "code",
   "execution_count": null,
   "metadata": {},
   "outputs": [],
   "source": []
  }
 ],
 "metadata": {
  "kernelspec": {
   "display_name": "Python 3",
   "language": "python",
   "name": "python3"
  },
  "language_info": {
   "codemirror_mode": {
    "name": "ipython",
    "version": 3
   },
   "file_extension": ".py",
   "mimetype": "text/x-python",
   "name": "python",
   "nbconvert_exporter": "python",
   "pygments_lexer": "ipython3",
   "version": "3.7.0"
  }
 },
 "nbformat": 4,
 "nbformat_minor": 2
}
