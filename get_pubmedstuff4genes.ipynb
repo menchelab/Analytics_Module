{
 "cells": [
  {
   "cell_type": "code",
   "execution_count": 16,
   "metadata": {},
   "outputs": [],
   "source": [
    "from indra import literature \n",
    "import numpy as np\n",
    "import pymysql\n",
    "import pandas as pd\n",
    "from bs4 import BeautifulSoup, Comment\n",
    "import requests"
   ]
  },
  {
   "cell_type": "code",
   "execution_count": null,
   "metadata": {},
   "outputs": [],
   "source": []
  },
  {
   "cell_type": "code",
   "execution_count": 102,
   "metadata": {},
   "outputs": [],
   "source": [
    "\"\"\"\n",
    "function return dict gene Entrez 2 Symbols\n",
    "\"\"\"\n",
    "def genent2sym():\n",
    "\n",
    "    db = pymysql.connect(\"menchelabdb.int.cemm.at\",\"readonly\",\"ra4Roh7ohdee\",\"GenesGO\")    \n",
    "\n",
    "    # prepare a cursor object using cursor() method\n",
    "    cursor = db.cursor()\n",
    "\n",
    "    sql = \"\"\"   SELECT\n",
    "                    Approved_Symbol,\n",
    "                    Entrez_Gene_ID_NCBI \n",
    "                FROM GenesGO.hgnc_complete\n",
    "                WHERE Entrez_Gene_ID_NCBI != ''\n",
    "          \"\"\" \n",
    "\n",
    "    cursor.execute(sql)\n",
    "    data = cursor.fetchall()    \n",
    "#     try: \n",
    "#         # execute SQL query using execute() method.\n",
    "#         cursor.execute(sql)\n",
    "#         data = cursor.fetchall()\n",
    "#     except:\n",
    "#         print('SQL error')\n",
    "    db.close()\n",
    "\n",
    "#     t0 = time.time()\n",
    "    d_sym_ent = {}\n",
    "    d_ent_sym = {}\n",
    "\n",
    "    for x in data:\n",
    "        sym = x[0]\n",
    "        ent = x[1]\n",
    "        d_sym_ent[sym] = ent\n",
    "        d_ent_sym[ent] = sym\n",
    "#     print(time.time()-t0)\n",
    "    \n",
    "    return d_ent_sym, d_sym_ent\n",
    "\n",
    "\n",
    "\n",
    "\"\"\"\n",
    "function return dict pub_id 2 titles\n",
    "\"\"\"\n",
    "def genent2pubtitle(entrez):\n",
    "\n",
    "    db = pymysql.connect(\"menchelabdb.int.cemm.at\",\"readonly\",\"ra4Roh7ohdee\",\"GenesGO\")    \n",
    "\n",
    "    # prepare a cursor object using cursor() method\n",
    "    cursor = db.cursor()\n",
    "\n",
    "    sql = \"\"\"   SELECT\n",
    "                    tx.pubid,\n",
    "                    tx.title\n",
    "                FROM Datadivr.gene2pubid gp\n",
    "                INNER JOIN Datadivr.pubid2text tx\n",
    "                ON gp.pubid = tx.pubid\n",
    "                WHERE gp.entrez = '%s'\n",
    "          \"\"\" %entrez\n",
    "\n",
    "    cursor.execute(sql)\n",
    "    data = cursor.fetchall()    \n",
    "#     try: \n",
    "#         # execute SQL query using execute() method.\n",
    "#         cursor.execute(sql)\n",
    "#         data = cursor.fetchall()\n",
    "#     except:\n",
    "#         print('SQL error')\n",
    "    db.close()\n",
    "\n",
    "#     t0 = time.time()\n",
    "    d_pid_tlt = {}\n",
    "\n",
    "    for x in data:\n",
    "        d_pid_tlt[x[0]] = x[1]\n",
    "    \n",
    "    return d_pid_tlt\n",
    "\n",
    "\n",
    "\"\"\"\n",
    "function return dict pub_id 2 titles\n",
    "\"\"\"\n",
    "def pubid2authorabstract(pubid):\n",
    "\n",
    "    db = pymysql.connect(\"menchelabdb.int.cemm.at\",\"readonly\",\"ra4Roh7ohdee\",\"GenesGO\")    \n",
    "\n",
    "    # prepare a cursor object using cursor() method\n",
    "    cursor = db.cursor()\n",
    "\n",
    "    sql = \"\"\"   SELECT\n",
    "                    author,\n",
    "                    abstract\n",
    "                FROM Datadivr.pubid2text\n",
    "                WHERE pubid = '%s'\n",
    "          \"\"\" %pubid\n",
    "\n",
    "    cursor.execute(sql)\n",
    "    data = cursor.fetchall()    \n",
    "#     try: \n",
    "#         # execute SQL query using execute() method.\n",
    "#         cursor.execute(sql)\n",
    "#         data = cursor.fetchall()\n",
    "#     except:\n",
    "#         print('SQL error')\n",
    "    db.close()\n",
    "\n",
    "#     t0 = time.time()\n",
    "#     l_text = []\n",
    "\n",
    "    for x in data:\n",
    "        text_str = x[0] + '<br>' + x[1]\n",
    "#         l_text.append(text_str)\n",
    "    \n",
    "    return text_str\n",
    "\n",
    "\n",
    "\"\"\"\n",
    "function gets search string return l_entrez\n",
    "\"\"\"\n",
    "def genesfromstr(searchstr):\n",
    "\n",
    "    searchstr_mod = '%'+searchstr+'%' \n",
    "    db = pymysql.connect(\"menchelabdb.int.cemm.at\",\"readonly\",\"ra4Roh7ohdee\",\"GenesGO\")    \n",
    "\n",
    "    # prepare a cursor object using cursor() method\n",
    "    cursor = db.cursor()\n",
    "\n",
    "    sql = \"\"\"   SELECT\n",
    "                DISTINCT\n",
    "                gp.entrez\n",
    "                #pubid\n",
    "                FROM Datadivr.pubid2text tx \n",
    "                INNER JOIN Datadivr.gene2pubid gp\n",
    "                ON gp.pubid = tx.pubid\n",
    "                WHERE tx.title LIKE '%s'\n",
    "          \"\"\" %searchstr_mod\n",
    "\n",
    "    cursor.execute(sql)\n",
    "    data = cursor.fetchall()    \n",
    "#     try: \n",
    "#         # execute SQL query using execute() method.\n",
    "#         cursor.execute(sql)\n",
    "#         data = cursor.fetchall()\n",
    "#     except:\n",
    "#         print('SQL error')\n",
    "    db.close()\n",
    "\n",
    "#     t0 = time.time()\n",
    "    l_entz = []\n",
    "\n",
    "    for x in data:\n",
    "#         text_str = x[0] + '<br>' + x[1]\n",
    "        l_entz.append(x[0])\n",
    "    \n",
    "    return l_entz"
   ]
  },
  {
   "cell_type": "code",
   "execution_count": null,
   "metadata": {},
   "outputs": [],
   "source": []
  },
  {
   "cell_type": "code",
   "execution_count": null,
   "metadata": {},
   "outputs": [],
   "source": []
  },
  {
   "cell_type": "markdown",
   "metadata": {},
   "source": [
    "# LOOK for Articles containing a search string"
   ]
  },
  {
   "cell_type": "code",
   "execution_count": 111,
   "metadata": {},
   "outputs": [
    {
     "name": "stdout",
     "output_type": "stream",
     "text": [
      "Number of articles found: 3701\n"
     ]
    }
   ],
   "source": [
    "search_str = 'interactome'\n",
    "\n",
    "prestr = 'https://www.ncbi.nlm.nih.gov/pubmed/?term='\n",
    "\n",
    "l_pubIDs = literature.pubmed_client.get_ids(search_str)\n",
    "\n",
    "\n",
    "print('Number of articles found: %s' %len(l_pubIDs))\n",
    "# for pID in l_pubIDs:\n",
    "#     print(prestr+pID)\n"
   ]
  },
  {
   "cell_type": "markdown",
   "metadata": {},
   "source": [
    "# -------------------------------------------------------------"
   ]
  },
  {
   "cell_type": "markdown",
   "metadata": {},
   "source": [
    "# GET all PubIDS for gene and make urls and title out of it"
   ]
  },
  {
   "cell_type": "code",
   "execution_count": 116,
   "metadata": {},
   "outputs": [
    {
     "name": "stdout",
     "output_type": "stream",
     "text": [
      "TET2\n",
      "['25040794', '20520643', '28521175', '29275866', '27997762', '20880116', '24433485', '24218139', '26404510', '25972343', '26093090', '24413737', '28077417', '28407691', '27881874', '25200248', '26980223', '25853800', '24394411', '19372255', '12646957', '22395470', '21723200', '19767753', '19262599', '26568194', '24697267', '29773648', '23535729', '20508616', '23563607', '21734233', '27729528', '19957346', '29331390', '27848178', '26917261', '26277372', '29411884', '22017486', '28167452', '22905207', '23009937', '27005421', '20595094', '19420352', '19483684', '24898826', '22080757', '22943828', '28218607', '26880370', '27819678', '20881960', '26045292', '26843622', '23827711', '27027260', '25961778', '23398456', '24994606', '20955399', '28731140', '21760590', '19564637', '12477932', '24723429', '20693430', '25381129', '26356709', '29735542', '21346257', '26524525', '26414667', '23135354', '26771811', '30045709', '21275969', '27761930', '27102770', '24122999', '21794915', '28003489', '24832084', '21828143', '24859829', '28514442', '23353889', '23781511', '25596262', '26562302', '25827305', '29331774', '26763362', '24028770', '21946350', '19666869', '26984174', '24795056', '28337768', '30890702', '20332099', '22328940', '30390073', '21087791', '20428194', '20489055', '21873635', '26972000', '22216861', '26287468', '22116554', '28167661', '24524305', '25671252', '24915579', '28813659', '24315485', '19609284', '16344560', '25687841', '23996483', '14702039', '26075789', '19903679', '27289557', '22569366', '30587503', '27384850', '27852070', '28826859', '21130701', '24980573', '26663912', '26551667', '20573398', '25601757', '26769901', '24735979', '23521373', '23065512', '23099237', '27288448', '30013992', '23820384', '21625234', '12421765', '27418193', '19295549', '25503193', '23001125', '28252217', '24120864', '23863747', '19849974', '28973458', '28655780', '21723201', '21508122', '24077167', '26099018', '20156304', '29515232', '20629097', '21057493', '28440315', '23222540', '28218476', '23365461', '20671051', '24958354', '28691928', '29705354', '30606231', '27497531', '20564319', '28349832', '25557551', '27829228', '20195608', '25568311', '21729597', '29227812', '22760778', '24693539', '19923888', '21343549', '25482556', '25082530', '29195897', '20061559', '28107650', '27486019', '28331128', '22430270', '26617797', '21307773', '21273266', '27644645', '26711177', '21904853', '19262601', '21690245', '23074272', '21339759', '19474426', '19797729', '26921880', '30074219', '29664232', '28642344', '20093295', '28130413', '26825711', '21251613', '27921272', '23940084', '27391574', '23831920', '29483655', '22200996', '22489043', '25695618', '20644105', '19710701', '30022161', '26126966', '28452984', '30130982', '10997877', '24220273', '28992762', '24465546', '20008299', '28923852', '25224413', '21920603', '20678218', '21173100', '21310937', '22354994', '25416956', '20334914', '27918559', '23705593', '23563267', '27545878', '22981865', '22658931', '21494260', '19528370', '20171768', '21042320', '29883611', '25429064', '29653065']\n",
      "256\n",
      "['https://www.ncbi.nlm.nih.gov/pubmed/?term=25040794', 'https://www.ncbi.nlm.nih.gov/pubmed/?term=20520643', 'https://www.ncbi.nlm.nih.gov/pubmed/?term=28521175', 'https://www.ncbi.nlm.nih.gov/pubmed/?term=29275866', 'https://www.ncbi.nlm.nih.gov/pubmed/?term=27997762', 'https://www.ncbi.nlm.nih.gov/pubmed/?term=20880116', 'https://www.ncbi.nlm.nih.gov/pubmed/?term=24433485', 'https://www.ncbi.nlm.nih.gov/pubmed/?term=24218139', 'https://www.ncbi.nlm.nih.gov/pubmed/?term=26404510', 'https://www.ncbi.nlm.nih.gov/pubmed/?term=25972343', 'https://www.ncbi.nlm.nih.gov/pubmed/?term=26093090', 'https://www.ncbi.nlm.nih.gov/pubmed/?term=24413737', 'https://www.ncbi.nlm.nih.gov/pubmed/?term=28077417', 'https://www.ncbi.nlm.nih.gov/pubmed/?term=28407691', 'https://www.ncbi.nlm.nih.gov/pubmed/?term=27881874', 'https://www.ncbi.nlm.nih.gov/pubmed/?term=25200248', 'https://www.ncbi.nlm.nih.gov/pubmed/?term=26980223', 'https://www.ncbi.nlm.nih.gov/pubmed/?term=25853800', 'https://www.ncbi.nlm.nih.gov/pubmed/?term=24394411', 'https://www.ncbi.nlm.nih.gov/pubmed/?term=19372255', 'https://www.ncbi.nlm.nih.gov/pubmed/?term=12646957', 'https://www.ncbi.nlm.nih.gov/pubmed/?term=22395470', 'https://www.ncbi.nlm.nih.gov/pubmed/?term=21723200', 'https://www.ncbi.nlm.nih.gov/pubmed/?term=19767753', 'https://www.ncbi.nlm.nih.gov/pubmed/?term=19262599', 'https://www.ncbi.nlm.nih.gov/pubmed/?term=26568194', 'https://www.ncbi.nlm.nih.gov/pubmed/?term=24697267', 'https://www.ncbi.nlm.nih.gov/pubmed/?term=29773648', 'https://www.ncbi.nlm.nih.gov/pubmed/?term=23535729', 'https://www.ncbi.nlm.nih.gov/pubmed/?term=20508616', 'https://www.ncbi.nlm.nih.gov/pubmed/?term=23563607', 'https://www.ncbi.nlm.nih.gov/pubmed/?term=21734233', 'https://www.ncbi.nlm.nih.gov/pubmed/?term=27729528', 'https://www.ncbi.nlm.nih.gov/pubmed/?term=19957346', 'https://www.ncbi.nlm.nih.gov/pubmed/?term=29331390', 'https://www.ncbi.nlm.nih.gov/pubmed/?term=27848178', 'https://www.ncbi.nlm.nih.gov/pubmed/?term=26917261', 'https://www.ncbi.nlm.nih.gov/pubmed/?term=26277372', 'https://www.ncbi.nlm.nih.gov/pubmed/?term=29411884', 'https://www.ncbi.nlm.nih.gov/pubmed/?term=22017486', 'https://www.ncbi.nlm.nih.gov/pubmed/?term=28167452', 'https://www.ncbi.nlm.nih.gov/pubmed/?term=22905207', 'https://www.ncbi.nlm.nih.gov/pubmed/?term=23009937', 'https://www.ncbi.nlm.nih.gov/pubmed/?term=27005421', 'https://www.ncbi.nlm.nih.gov/pubmed/?term=20595094', 'https://www.ncbi.nlm.nih.gov/pubmed/?term=19420352', 'https://www.ncbi.nlm.nih.gov/pubmed/?term=19483684', 'https://www.ncbi.nlm.nih.gov/pubmed/?term=24898826', 'https://www.ncbi.nlm.nih.gov/pubmed/?term=22080757', 'https://www.ncbi.nlm.nih.gov/pubmed/?term=22943828', 'https://www.ncbi.nlm.nih.gov/pubmed/?term=28218607', 'https://www.ncbi.nlm.nih.gov/pubmed/?term=26880370', 'https://www.ncbi.nlm.nih.gov/pubmed/?term=27819678', 'https://www.ncbi.nlm.nih.gov/pubmed/?term=20881960', 'https://www.ncbi.nlm.nih.gov/pubmed/?term=26045292', 'https://www.ncbi.nlm.nih.gov/pubmed/?term=26843622', 'https://www.ncbi.nlm.nih.gov/pubmed/?term=23827711', 'https://www.ncbi.nlm.nih.gov/pubmed/?term=27027260', 'https://www.ncbi.nlm.nih.gov/pubmed/?term=25961778', 'https://www.ncbi.nlm.nih.gov/pubmed/?term=23398456', 'https://www.ncbi.nlm.nih.gov/pubmed/?term=24994606', 'https://www.ncbi.nlm.nih.gov/pubmed/?term=20955399', 'https://www.ncbi.nlm.nih.gov/pubmed/?term=28731140', 'https://www.ncbi.nlm.nih.gov/pubmed/?term=21760590', 'https://www.ncbi.nlm.nih.gov/pubmed/?term=19564637', 'https://www.ncbi.nlm.nih.gov/pubmed/?term=12477932', 'https://www.ncbi.nlm.nih.gov/pubmed/?term=24723429', 'https://www.ncbi.nlm.nih.gov/pubmed/?term=20693430', 'https://www.ncbi.nlm.nih.gov/pubmed/?term=25381129', 'https://www.ncbi.nlm.nih.gov/pubmed/?term=26356709', 'https://www.ncbi.nlm.nih.gov/pubmed/?term=29735542', 'https://www.ncbi.nlm.nih.gov/pubmed/?term=21346257', 'https://www.ncbi.nlm.nih.gov/pubmed/?term=26524525', 'https://www.ncbi.nlm.nih.gov/pubmed/?term=26414667', 'https://www.ncbi.nlm.nih.gov/pubmed/?term=23135354', 'https://www.ncbi.nlm.nih.gov/pubmed/?term=26771811', 'https://www.ncbi.nlm.nih.gov/pubmed/?term=30045709', 'https://www.ncbi.nlm.nih.gov/pubmed/?term=21275969', 'https://www.ncbi.nlm.nih.gov/pubmed/?term=27761930', 'https://www.ncbi.nlm.nih.gov/pubmed/?term=27102770', 'https://www.ncbi.nlm.nih.gov/pubmed/?term=24122999', 'https://www.ncbi.nlm.nih.gov/pubmed/?term=21794915', 'https://www.ncbi.nlm.nih.gov/pubmed/?term=28003489', 'https://www.ncbi.nlm.nih.gov/pubmed/?term=24832084', 'https://www.ncbi.nlm.nih.gov/pubmed/?term=21828143', 'https://www.ncbi.nlm.nih.gov/pubmed/?term=24859829', 'https://www.ncbi.nlm.nih.gov/pubmed/?term=28514442', 'https://www.ncbi.nlm.nih.gov/pubmed/?term=23353889', 'https://www.ncbi.nlm.nih.gov/pubmed/?term=23781511', 'https://www.ncbi.nlm.nih.gov/pubmed/?term=25596262', 'https://www.ncbi.nlm.nih.gov/pubmed/?term=26562302', 'https://www.ncbi.nlm.nih.gov/pubmed/?term=25827305', 'https://www.ncbi.nlm.nih.gov/pubmed/?term=29331774', 'https://www.ncbi.nlm.nih.gov/pubmed/?term=26763362', 'https://www.ncbi.nlm.nih.gov/pubmed/?term=24028770', 'https://www.ncbi.nlm.nih.gov/pubmed/?term=21946350', 'https://www.ncbi.nlm.nih.gov/pubmed/?term=19666869', 'https://www.ncbi.nlm.nih.gov/pubmed/?term=26984174', 'https://www.ncbi.nlm.nih.gov/pubmed/?term=24795056', 'https://www.ncbi.nlm.nih.gov/pubmed/?term=28337768', 'https://www.ncbi.nlm.nih.gov/pubmed/?term=30890702', 'https://www.ncbi.nlm.nih.gov/pubmed/?term=20332099', 'https://www.ncbi.nlm.nih.gov/pubmed/?term=22328940', 'https://www.ncbi.nlm.nih.gov/pubmed/?term=30390073', 'https://www.ncbi.nlm.nih.gov/pubmed/?term=21087791', 'https://www.ncbi.nlm.nih.gov/pubmed/?term=20428194', 'https://www.ncbi.nlm.nih.gov/pubmed/?term=20489055', 'https://www.ncbi.nlm.nih.gov/pubmed/?term=21873635', 'https://www.ncbi.nlm.nih.gov/pubmed/?term=26972000', 'https://www.ncbi.nlm.nih.gov/pubmed/?term=22216861', 'https://www.ncbi.nlm.nih.gov/pubmed/?term=26287468', 'https://www.ncbi.nlm.nih.gov/pubmed/?term=22116554', 'https://www.ncbi.nlm.nih.gov/pubmed/?term=28167661', 'https://www.ncbi.nlm.nih.gov/pubmed/?term=24524305', 'https://www.ncbi.nlm.nih.gov/pubmed/?term=25671252', 'https://www.ncbi.nlm.nih.gov/pubmed/?term=24915579', 'https://www.ncbi.nlm.nih.gov/pubmed/?term=28813659', 'https://www.ncbi.nlm.nih.gov/pubmed/?term=24315485', 'https://www.ncbi.nlm.nih.gov/pubmed/?term=19609284', 'https://www.ncbi.nlm.nih.gov/pubmed/?term=16344560', 'https://www.ncbi.nlm.nih.gov/pubmed/?term=25687841', 'https://www.ncbi.nlm.nih.gov/pubmed/?term=23996483', 'https://www.ncbi.nlm.nih.gov/pubmed/?term=14702039', 'https://www.ncbi.nlm.nih.gov/pubmed/?term=26075789', 'https://www.ncbi.nlm.nih.gov/pubmed/?term=19903679', 'https://www.ncbi.nlm.nih.gov/pubmed/?term=27289557', 'https://www.ncbi.nlm.nih.gov/pubmed/?term=22569366', 'https://www.ncbi.nlm.nih.gov/pubmed/?term=30587503', 'https://www.ncbi.nlm.nih.gov/pubmed/?term=27384850', 'https://www.ncbi.nlm.nih.gov/pubmed/?term=27852070', 'https://www.ncbi.nlm.nih.gov/pubmed/?term=28826859', 'https://www.ncbi.nlm.nih.gov/pubmed/?term=21130701', 'https://www.ncbi.nlm.nih.gov/pubmed/?term=24980573', 'https://www.ncbi.nlm.nih.gov/pubmed/?term=26663912', 'https://www.ncbi.nlm.nih.gov/pubmed/?term=26551667', 'https://www.ncbi.nlm.nih.gov/pubmed/?term=20573398', 'https://www.ncbi.nlm.nih.gov/pubmed/?term=25601757', 'https://www.ncbi.nlm.nih.gov/pubmed/?term=26769901', 'https://www.ncbi.nlm.nih.gov/pubmed/?term=24735979', 'https://www.ncbi.nlm.nih.gov/pubmed/?term=23521373', 'https://www.ncbi.nlm.nih.gov/pubmed/?term=23065512', 'https://www.ncbi.nlm.nih.gov/pubmed/?term=23099237', 'https://www.ncbi.nlm.nih.gov/pubmed/?term=27288448', 'https://www.ncbi.nlm.nih.gov/pubmed/?term=30013992', 'https://www.ncbi.nlm.nih.gov/pubmed/?term=23820384', 'https://www.ncbi.nlm.nih.gov/pubmed/?term=21625234', 'https://www.ncbi.nlm.nih.gov/pubmed/?term=12421765', 'https://www.ncbi.nlm.nih.gov/pubmed/?term=27418193', 'https://www.ncbi.nlm.nih.gov/pubmed/?term=19295549', 'https://www.ncbi.nlm.nih.gov/pubmed/?term=25503193', 'https://www.ncbi.nlm.nih.gov/pubmed/?term=23001125', 'https://www.ncbi.nlm.nih.gov/pubmed/?term=28252217', 'https://www.ncbi.nlm.nih.gov/pubmed/?term=24120864', 'https://www.ncbi.nlm.nih.gov/pubmed/?term=23863747', 'https://www.ncbi.nlm.nih.gov/pubmed/?term=19849974', 'https://www.ncbi.nlm.nih.gov/pubmed/?term=28973458', 'https://www.ncbi.nlm.nih.gov/pubmed/?term=28655780', 'https://www.ncbi.nlm.nih.gov/pubmed/?term=21723201', 'https://www.ncbi.nlm.nih.gov/pubmed/?term=21508122', 'https://www.ncbi.nlm.nih.gov/pubmed/?term=24077167', 'https://www.ncbi.nlm.nih.gov/pubmed/?term=26099018', 'https://www.ncbi.nlm.nih.gov/pubmed/?term=20156304', 'https://www.ncbi.nlm.nih.gov/pubmed/?term=29515232', 'https://www.ncbi.nlm.nih.gov/pubmed/?term=20629097', 'https://www.ncbi.nlm.nih.gov/pubmed/?term=21057493', 'https://www.ncbi.nlm.nih.gov/pubmed/?term=28440315', 'https://www.ncbi.nlm.nih.gov/pubmed/?term=23222540', 'https://www.ncbi.nlm.nih.gov/pubmed/?term=28218476', 'https://www.ncbi.nlm.nih.gov/pubmed/?term=23365461', 'https://www.ncbi.nlm.nih.gov/pubmed/?term=20671051', 'https://www.ncbi.nlm.nih.gov/pubmed/?term=24958354', 'https://www.ncbi.nlm.nih.gov/pubmed/?term=28691928', 'https://www.ncbi.nlm.nih.gov/pubmed/?term=29705354', 'https://www.ncbi.nlm.nih.gov/pubmed/?term=30606231', 'https://www.ncbi.nlm.nih.gov/pubmed/?term=27497531', 'https://www.ncbi.nlm.nih.gov/pubmed/?term=20564319', 'https://www.ncbi.nlm.nih.gov/pubmed/?term=28349832', 'https://www.ncbi.nlm.nih.gov/pubmed/?term=25557551', 'https://www.ncbi.nlm.nih.gov/pubmed/?term=27829228', 'https://www.ncbi.nlm.nih.gov/pubmed/?term=20195608', 'https://www.ncbi.nlm.nih.gov/pubmed/?term=25568311', 'https://www.ncbi.nlm.nih.gov/pubmed/?term=21729597', 'https://www.ncbi.nlm.nih.gov/pubmed/?term=29227812', 'https://www.ncbi.nlm.nih.gov/pubmed/?term=22760778', 'https://www.ncbi.nlm.nih.gov/pubmed/?term=24693539', 'https://www.ncbi.nlm.nih.gov/pubmed/?term=19923888', 'https://www.ncbi.nlm.nih.gov/pubmed/?term=21343549', 'https://www.ncbi.nlm.nih.gov/pubmed/?term=25482556', 'https://www.ncbi.nlm.nih.gov/pubmed/?term=25082530', 'https://www.ncbi.nlm.nih.gov/pubmed/?term=29195897', 'https://www.ncbi.nlm.nih.gov/pubmed/?term=20061559', 'https://www.ncbi.nlm.nih.gov/pubmed/?term=28107650', 'https://www.ncbi.nlm.nih.gov/pubmed/?term=27486019', 'https://www.ncbi.nlm.nih.gov/pubmed/?term=28331128', 'https://www.ncbi.nlm.nih.gov/pubmed/?term=22430270', 'https://www.ncbi.nlm.nih.gov/pubmed/?term=26617797', 'https://www.ncbi.nlm.nih.gov/pubmed/?term=21307773', 'https://www.ncbi.nlm.nih.gov/pubmed/?term=21273266', 'https://www.ncbi.nlm.nih.gov/pubmed/?term=27644645', 'https://www.ncbi.nlm.nih.gov/pubmed/?term=26711177', 'https://www.ncbi.nlm.nih.gov/pubmed/?term=21904853', 'https://www.ncbi.nlm.nih.gov/pubmed/?term=19262601', 'https://www.ncbi.nlm.nih.gov/pubmed/?term=21690245', 'https://www.ncbi.nlm.nih.gov/pubmed/?term=23074272', 'https://www.ncbi.nlm.nih.gov/pubmed/?term=21339759', 'https://www.ncbi.nlm.nih.gov/pubmed/?term=19474426', 'https://www.ncbi.nlm.nih.gov/pubmed/?term=19797729', 'https://www.ncbi.nlm.nih.gov/pubmed/?term=26921880', 'https://www.ncbi.nlm.nih.gov/pubmed/?term=30074219', 'https://www.ncbi.nlm.nih.gov/pubmed/?term=29664232', 'https://www.ncbi.nlm.nih.gov/pubmed/?term=28642344', 'https://www.ncbi.nlm.nih.gov/pubmed/?term=20093295', 'https://www.ncbi.nlm.nih.gov/pubmed/?term=28130413', 'https://www.ncbi.nlm.nih.gov/pubmed/?term=26825711', 'https://www.ncbi.nlm.nih.gov/pubmed/?term=21251613', 'https://www.ncbi.nlm.nih.gov/pubmed/?term=27921272', 'https://www.ncbi.nlm.nih.gov/pubmed/?term=23940084', 'https://www.ncbi.nlm.nih.gov/pubmed/?term=27391574', 'https://www.ncbi.nlm.nih.gov/pubmed/?term=23831920', 'https://www.ncbi.nlm.nih.gov/pubmed/?term=29483655', 'https://www.ncbi.nlm.nih.gov/pubmed/?term=22200996', 'https://www.ncbi.nlm.nih.gov/pubmed/?term=22489043', 'https://www.ncbi.nlm.nih.gov/pubmed/?term=25695618', 'https://www.ncbi.nlm.nih.gov/pubmed/?term=20644105', 'https://www.ncbi.nlm.nih.gov/pubmed/?term=19710701', 'https://www.ncbi.nlm.nih.gov/pubmed/?term=30022161', 'https://www.ncbi.nlm.nih.gov/pubmed/?term=26126966', 'https://www.ncbi.nlm.nih.gov/pubmed/?term=28452984', 'https://www.ncbi.nlm.nih.gov/pubmed/?term=30130982', 'https://www.ncbi.nlm.nih.gov/pubmed/?term=10997877', 'https://www.ncbi.nlm.nih.gov/pubmed/?term=24220273', 'https://www.ncbi.nlm.nih.gov/pubmed/?term=28992762', 'https://www.ncbi.nlm.nih.gov/pubmed/?term=24465546', 'https://www.ncbi.nlm.nih.gov/pubmed/?term=20008299', 'https://www.ncbi.nlm.nih.gov/pubmed/?term=28923852', 'https://www.ncbi.nlm.nih.gov/pubmed/?term=25224413', 'https://www.ncbi.nlm.nih.gov/pubmed/?term=21920603', 'https://www.ncbi.nlm.nih.gov/pubmed/?term=20678218', 'https://www.ncbi.nlm.nih.gov/pubmed/?term=21173100', 'https://www.ncbi.nlm.nih.gov/pubmed/?term=21310937', 'https://www.ncbi.nlm.nih.gov/pubmed/?term=22354994', 'https://www.ncbi.nlm.nih.gov/pubmed/?term=25416956', 'https://www.ncbi.nlm.nih.gov/pubmed/?term=20334914', 'https://www.ncbi.nlm.nih.gov/pubmed/?term=27918559', 'https://www.ncbi.nlm.nih.gov/pubmed/?term=23705593', 'https://www.ncbi.nlm.nih.gov/pubmed/?term=23563267', 'https://www.ncbi.nlm.nih.gov/pubmed/?term=27545878', 'https://www.ncbi.nlm.nih.gov/pubmed/?term=22981865', 'https://www.ncbi.nlm.nih.gov/pubmed/?term=22658931', 'https://www.ncbi.nlm.nih.gov/pubmed/?term=21494260', 'https://www.ncbi.nlm.nih.gov/pubmed/?term=19528370', 'https://www.ncbi.nlm.nih.gov/pubmed/?term=20171768', 'https://www.ncbi.nlm.nih.gov/pubmed/?term=21042320', 'https://www.ncbi.nlm.nih.gov/pubmed/?term=29883611', 'https://www.ncbi.nlm.nih.gov/pubmed/?term=25429064', 'https://www.ncbi.nlm.nih.gov/pubmed/?term=29653065']\n"
     ]
    }
   ],
   "source": [
    "entrezID = '54790'\n",
    "\n",
    "d_ent_sym, d_sym_ent = genent2sym()\n",
    "genesym = d_ent_sym[entrezID]\n",
    "print(genesym)\n",
    "\n",
    "# get list of all pubmedIDs\n",
    "l_pubIDs = literature.pubmed_client.get_ids_for_gene(genesym)\n",
    "\n",
    "l_title = []\n",
    "print(l_pubIDs)\n",
    "print(len(l_pubIDs))\n",
    "\n",
    "#list of pubmed urls\n",
    "\n",
    "prestr = 'https://www.ncbi.nlm.nih.gov/pubmed/?term='\n",
    "l_urls = []\n",
    "for pubID in l_pubIDs:\n",
    "    l_urls.append(prestr+pubID)\n",
    "    l_title.append(literature.pubmed_client.get_title(pubID))\n",
    "\n",
    "\n",
    "print(l_urls)"
   ]
  },
  {
   "cell_type": "markdown",
   "metadata": {},
   "source": [
    "# -------------------------------------------------------------"
   ]
  },
  {
   "cell_type": "markdown",
   "metadata": {},
   "source": [
    "# GET stuff\n"
   ]
  },
  {
   "cell_type": "code",
   "execution_count": null,
   "metadata": {},
   "outputs": [],
   "source": [
    "l_pubIDs = literature.pubmed_client.get_ids_for_gene(genesym)\n",
    "# print(len(l_pubIDs))\n",
    "\n",
    "# out_str = 'Number of articles linked: %s <br>' %len(l_pubIDs)\n",
    "\n",
    "if len(l_pubIDs) >5:\n",
    "    max_ids = 5\n",
    "else:\n",
    "    max_ids = len(l_pubIDs)\n",
    "    \n",
    "d_title_abstract = {}\n",
    "\n",
    "for pubID in l_pubIDs[:max_ids]:\n",
    "    d_meta = literature.pubmed_client.get_metadata_for_ids(pubID)    \n",
    "    for x in d_meta.values():\n",
    "        out_str += 'Title: \"%s\"' %x['title'] \n",
    "#         print('Title: \"%s\"' %x['title'])\n",
    "\n",
    "        title = x['title']\n",
    "        \n",
    "        authorstr = ''\n",
    "        for a in x['authors']:\n",
    "            authorstr += a + ','\n",
    "        authorstr = 'Authors: ' + authorstr[:-1] +'<br>'    \n",
    "        \n",
    "#         print('Authors: %s' %authorstr[:-1])\n",
    "    \n",
    "#     print(literature.pubmed_client.get_abstract(pubID,prepend_title = False))\n",
    "    abstract = literature.pubmed_client.get_abstract(pubID,prepend_title = False)\n",
    "    \n",
    "    d_title_abstract[title] = authorstr + abstract\n",
    "    \n",
    "print(d_title_abstract)"
   ]
  },
  {
   "cell_type": "code",
   "execution_count": null,
   "metadata": {},
   "outputs": [],
   "source": [
    "r = requests.get(l_urls[0])\n",
    "soup = BeautifulSoup(r.content, \"lxml\")\n",
    "\n",
    "for text in soup.body.find_all(string=True):\n",
    "    if text.parent.name not in ['script', 'meta', 'link', 'style'] and not isinstance(text, Comment) and text != '\\n':\n",
    "        print(text.strip())"
   ]
  },
  {
   "cell_type": "code",
   "execution_count": null,
   "metadata": {},
   "outputs": [],
   "source": []
  },
  {
   "cell_type": "markdown",
   "metadata": {},
   "source": [
    "# WRITE TO FILE 4 DB"
   ]
  },
  {
   "cell_type": "code",
   "execution_count": null,
   "metadata": {},
   "outputs": [],
   "source": []
  },
  {
   "cell_type": "code",
   "execution_count": 3,
   "metadata": {},
   "outputs": [],
   "source": [
    "# generate file for Datadivr.gene2pubid\n",
    "d_ent_sym, d_sym_ent = genent2sym()\n",
    "f = open('gene2pubID.csv','w')\n",
    "c = 0\n",
    "l_pid = []\n",
    "\n",
    "\n",
    "for entz, sym in d_ent_sym.items():\n",
    "#     if c<100:\n",
    "\n",
    "    # get pubmed IDs\n",
    "    try:\n",
    "        l_pubIDs = literature.pubmed_client.get_ids_for_gene(sym)\n",
    "    except:\n",
    "        l_pubIDs = []\n",
    "    prestr = 'https://www.ncbi.nlm.nih.gov/pubmed/?term='\n",
    "\n",
    "\n",
    "    for pID in l_pubIDs:\n",
    "        f.write('%s,%s,%s,%s\\n' %(entz,sym,pID,prestr+pID))\n",
    "        l_pid.append(pID)\n",
    "#     c += 1\n",
    "    \n"
   ]
  },
  {
   "cell_type": "code",
   "execution_count": 10,
   "metadata": {},
   "outputs": [],
   "source": [
    "# generate file for Datadivr.gene2pubid\n",
    "d_ent_sym, d_sym_ent = genent2sym()\n",
    "# f = open('gene2pubID.csv','w')\n",
    "c = 0\n",
    "l_pid = []\n",
    "for entz, sym in d_ent_sym.items():\n",
    "#     if c <100:\n",
    "\n",
    "    # get gene symbol\n",
    "    genesym = d_ent_sym[entrezID]\n",
    "#         print(genesym)\n",
    "\n",
    "    # get pubmed IDs\n",
    "    l_pubIDs = literature.pubmed_client.get_ids_for_gene(genesym)\n",
    "#     prestr = 'https://www.ncbi.nlm.nih.gov/pubmed/?term='\n",
    "\n",
    "\n",
    "    for pID in l_pubIDs:\n",
    "        l_pid.append(pID)\n",
    "#         f.write('%s,%s,%s,%s\\n' %(entz,sym,pID,prestr+pID))\n",
    "# c += 1\n",
    "    "
   ]
  },
  {
   "cell_type": "code",
   "execution_count": 12,
   "metadata": {},
   "outputs": [
    {
     "name": "stdout",
     "output_type": "stream",
     "text": [
      "34\n"
     ]
    }
   ],
   "source": [
    "print(len(set(l_pid)))"
   ]
  },
  {
   "cell_type": "markdown",
   "metadata": {},
   "source": [
    "# READ FILES TO GENERATE TITLE, AUTHORs AND ABSTRACT FOR EACH PUB_ID"
   ]
  },
  {
   "cell_type": "code",
   "execution_count": 10,
   "metadata": {},
   "outputs": [],
   "source": [
    "f = open('gene2pubID.csv','r')\n",
    "\n",
    "lines = f.readlines()\n",
    "\n",
    "l_pids = []\n",
    "for line in lines:\n",
    "    pid = line.strip().split(',')[2]\n",
    "    l_pids.append(pid)\n",
    "f.close()"
   ]
  },
  {
   "cell_type": "code",
   "execution_count": 38,
   "metadata": {},
   "outputs": [
    {
     "name": "stdout",
     "output_type": "stream",
     "text": [
      "8854877\n",
      "Title: \"Mapping of the MR60/ERGIC-53 gene to human chromosome 18q21.3-18q22 by in situ hybridization.\"\n",
      "Authors: Authors: Arar,Mignon,Mattei,Monsigny,Roche,Legran\n",
      "Abstract: \n",
      "\n",
      "\n",
      "12032587\n",
      "Title: \"Variability of the human aryl hydrocarbon receptor nuclear translocator (ARNT) gene.\"\n",
      "Authors: Authors: Scheel,Hussong,Schrenk,Schmit\n",
      "Abstract: The aryl hydrocarbon receptor nuclear translocator (ARNT) plays an essential role in vertebrate transcriptional regulation as the common subunit of transcriptionally active complexes like the aryl hydrocarbon receptor (AHR)/ARNT heterodimer and hypoxia-inducible factor 1, mediating cellular responses to certain xenobiotics and to hypoxia, respectively. A cohort of healthy Caucasian volunteers was screened for genetic variations of ARNT. Six polymorphic sites could be identified, a variation in a G-stretch upstream of the ATG translation start site, a frequent silent mutation (G567C), two polymorphic sites in intron 9, and two single nucleotide substitutions leading to amino acid exchanges, G1531A (D511N) and T1551G (D517E). The frequencies were 0.005 for the Asn-coding allele and for the Glu-coding allele, respectively, with no linkage between these two mutations. Although no significant correlation with activities of CYP1A2, which is under regulatory control of the AHR/ARNT transcription complex, could be established, metabolic or pathological phenotypes may be associated with these variations.\n",
      "\n",
      "\n",
      "12837269\n",
      "Title: \"Genetic polymorphism and sequence evolution of an alternatively spliced exon of the glial fibrillary acidic protein gene, GFAP.\"\n",
      "Authors: Authors: Singh,Nielsen,Johansen,Jørgense\n",
      "Abstract: Isoform GFAPepsilon of the human cytoskeletal protein GFAP carries, as the result of alternative splicing of exon 7a of GFAP, a novel 42-amino-acid-long C-terminal region with binding capacity for the presenilin proteins. Here we show that exon 7a is present in a variety of mammals but absent from GFAP of chicken and fish. Comparison of the mouse and human GFAP exons showed an increased rate of nonsynonymous nucleotide substitutions in exon 7a compared to the other exons. This resulted in 10 nonconservative and 2 conservative amino acid substitutions and suggests that exon 7a has evolved under different functional constraints. Exons 7a of humans and higher primates are 100% identical apart from alanine codon 426, which is conserved in only 9% of the human alleles, while 21 and 70% of the alleles, respectively, have a valine or a threonine codon at that position. Threonine represents a potential phosphorylation site, and positive selection of that effect could explain the high allele frequency.\n",
      "\n",
      "\n",
      "23552988\n",
      "Title: \"Association of functional polymorphism rs2231142 (Q141K) in the ABCG2 gene with serum uric acid and gout in 4 US populations: the PAGE Study.\"\n",
      "Authors: Authors: Zhang,Spencer,Voruganti,Jorgensen,Fornage,Best,Brown-Gentry,Cole,Crawford,Deelman,Franceschini,Gaffo,Glenn,Heiss,Jenny,Kottgen,Li,Liu,Matise,North,Umans,Ka\n",
      "Abstract: A loss-of-function mutation (Q141K, rs2231142) in the ATP-binding cassette, subfamily G, member 2 gene (ABCG2) has been shown to be associated with serum uric acid levels and gout in Asians, Europeans, and European and African Americans; however, less is known about these associations in other populations. Rs2231142 was genotyped in 22,734 European Americans, 9,720 African Americans, 3,849 Mexican Americans, and 3,550 American Indians in the Population Architecture using Genomics and Epidemiology (PAGE) Study (2008-2012). Rs2231142 was significantly associated with serum uric acid levels (P = 2.37 × 10(-67), P = 3.98 × 10(-5), P = 6.97 × 10(-9), and P = 5.33 × 10(-4) in European Americans, African Americans, Mexican Americans, and American Indians, respectively) and gout (P = 2.83 × 10(-10), P = 0.01, and P = 0.01 in European Americans, African Americans, and Mexican Americans, respectively). Overall, the T allele was associated with a 0.24-mg/dL increase in serum uric acid level (P = 1.37 × 10(-80)) and a 1.75-fold increase in the odds of gout (P = 1.09 × 10(-12)). The association between rs2231142 and serum uric acid was significantly stronger in men, postmenopausal women, and hormone therapy users compared with their counterparts. The association with gout was also significantly stronger in men than in women. These results highlight a possible role of sex hormones in the regulation of ABCG2 urate transporter and its potential implications for the prevention, diagnosis, and treatment of hyperuricemia and gout. \n",
      "\n",
      "\n",
      "8755651\n",
      "Title: \"Cloning of the mammalian type II iodothyronine deiodinase. A selenoprotein differentially expressed and regulated in human and rat brain and other tissues.\"\n",
      "Authors: Authors: Croteau,Davey,Galton,St Germai\n",
      "Abstract: The deiodination of thyroid hormones in extrathyroidal tissues plays an important role in modulating thyroid hormone action. The type II deiodinase (DII) converts thyroxine to the active hormone 3,5,3'-triiodothyronine, and in the rat is expressed in the brain, pituitary gland, and brown adipose tissue (BAT). Complementary DNAs (cDNAs) for the types I and III deiodinases (DI and DIII, respectively) have been isolated and shown to code for selenoproteins. However, information concerning the structure of the mammalian DII remains limited, and the pattern of its expression in human tissues is undefined. We report herein the identification and characterization of rat and human DII cDNAs. Both code for selenoproteins and exhibit limited regions of homology with the DI and DIII. In the rat pituitary and BAT, DII mRNA levels are altered more than 10-fold by changes in the thyroid hormone status of the animal. Northern analysis of RNA derived from human tissues reveals expression of DII transcripts in heart, skeletal muscle, placenta, fetal brain, and several regions of the adult brain. These studies demonstrate that: (a) the rat and human DII are selenoproteins, (b) DII expression in the rat is regulated, at least in part, at the pretranslational level in some tissues, and (c) DII is likely to be of considerable physiologic importance in thyroid hormone economy in the human fetus and adult.\n",
      "\n",
      "\n",
      "21638273\n",
      "Title: \"GATA-3 up-regulation in CD8+ T cells as a biomarker of immune dysfunction in systemic sclerosis, resulting in excessive interleukin-13 production.\"\n",
      "Authors: Authors: Medsger,Ivanco,Kardava,Morel,Lucas,Fuschiott\n",
      "Abstract: Despite the importance of interleukin-13 (IL-13) in systemic sclerosis (SSc) and other fibrotic diseases, its mechanisms of action are not understood. We have reported that excessive amounts of IL-13 are produced by peripheral blood effector CD8+ T cells from patients with diffuse cutaneous SSc (dcSSc). The aim of the present study was to establish the molecular basis of IL-13 dysregulation in the pathogenesis of SSc. Quantitative polymerase chain reaction analysis and intracellular staining were used to study the transcription factors that control naive peripheral blood CD8+ T cell differentiation into type 1 and type 2 cytokine-secreting cells. Intracellular staining revealed that GATA-3 levels in freshly isolated naive CD8+ T cells correlated with specific clinical manifestations. We therefore assessed the effects of GATA-3 inhibition on IL-13 production in CD8+ T cells from the SSc patients. Freshly isolated naive peripheral blood CD8+ T cells expressed high levels of GATA-3 and failed to down-regulate IL-13 production when cultured under type 1-skewing conditions, but maintained adequate levels of interferon-γ production. Cellular GATA-3 levels were significantly higher in patients with dcSSc and early inflammatory disease. Silencing of GATA-3 with small interfering RNA significantly reduced IL-13 production by CD8+ T cells, demonstrating a causal relationship between GATA-3 and IL-13. These results provide important new insights into SSc pathogenesis and suggest that increased GATA-3 expression in CD8+ T cells could be a highly relevant biomarker of immune dysfunction in patients with dcSSc. GATA-3 could be a novel therapeutic target for this currently incurable disease.\n",
      "\n",
      "\n",
      "26504030\n",
      "Title: \"Active Hexose-correlated Compound Down-regulates Heat Shock Factor 1, a Transcription Factor for HSP27, in Gemcitabine-resistant Human Pancreatic Cancer Cells.\"\n",
      "Authors: Authors: Tokunaga,Baron,Kitagawa,Tokuda,Kuramits\n",
      "Abstract: Active hexose-correlated compound (AHCC) is an extract of a basidiomycete mushroom that enhances the therapeutic effects and reduces the side-effects of chemotherapy. Our previous studies demonstrated that heat-shock protein 27 (HSP27) was involved in gemcitabine-resistance of pancreatic cancer cells and it was down-regulated by AHCC-treatment. However, how AHCC down-regulated HSP27 is unknown. In the present study, we focused on two transcription factors reported to induce HSP27, heat shock factor 1 (HSF1) and high-mobility group box 1 (HMGB1) and investigated the effect of AHCC on their expression. KLM1-R cells were treated with AHCC and the protein expression of HSF1 and HMGB1 were analyzed by western blotting. The protein expression of HSF1 in KLM1-R was down-regulated by AHCC treatment. On the other hand, the protein expression of HMGB1 was not reduced in KLM1-R cells after AHCC treatment. The possibility that AHCC down-regulated HSP27 through down-regulation of the HSF1, was herein shown.\n",
      "\n",
      "\n",
      "18368308\n",
      "Title: \"Construction of sperm-specific lactate dehydrogenase DNA vaccine and experimental study of its immunocontraceptive effect on mice.\"\n",
      "Authors: Authors: Chen,Zhang,Xin,Xiong,Chen,Li,Tu,La\n",
      "Abstract: Lactate dehydrogenase C4 (LDHC4) is a key enzyme for sperm metabolism. It is distributed specifically in testis and is highly immunogenic. In this study, two DNA vaccines pVAX1-hLDHC and pVAX1-mLDHC were constructed by inserting coding sequences of human and mice LDHC4 into the eukaryotic expression vector pVAX1. The production of LDHC4 specific antibodies was induced in the sera of vaccinated mice and the reproductive tract secretions of vaccinated female mice through immunization by mucosal surface instillation. Furthermore, the antibody titer increased with the times of immunization. In the mating experiment, the number of newborns of the vaccinated mice reduced significantly and some immunized female mice even lost the ability to bear any offsprings, suggesting that the difference between the immunized and control mice was statistically significant. Sperm agglutination analysis indicated that both the antisera from immunized mice and the reproductive tract secretions of vaccinated female mice could agglutinate normal sperms. Results of immunohistochemistry showed that the antibodies present in the sera of immunized mice and the reproductive tract secretions of vaccinated female mice could specifically react with LDHC4 antigen, which mainly locates in the cytoplasm, acrosome membrane externa and acrosome capsule of the sperm. Taken together, our results indicated that the constructed contraceptive DNA vaccines did yield immunocontraceptive effects on mice and this would enable clinical trials in near future.\n",
      "\n",
      "\n",
      "16343438\n",
      "Title: \"FHL2 mediates p53-induced transcriptional activation through a direct association with HIPK2.\"\n",
      "Authors: Authors: Lee,Kim,U\n",
      "Abstract: To understand the molecular mechanism underlying HIPK2 regulation of the transcriptional activation by p53, we sought to identify the protein that interacts with HIPK2. From our yeast two-hybrid screen, we found that four and a half LIM domains 2 (FHL2) could bind to the C-terminal half of HIPK2. Further assays in yeast mapped the minimal interaction domain to amino acids 812-907 in HIPK2. The interaction was confirmed using a GST pull-down assay in vitro, and an immunoprecipitation (IP) assay and fluorescence microscopy in vivo. FHL2 alone spread throughout both the cytoplasm and nucleus but was redistributed to dot-like structures in the nucleus when HIPK2 was coexpressed in HEK293 cells. When tethered to the Gal4-responsive promoter through the Gal4 DBD fusion, FHL2 showed autonomous transcriptional activity that was enhanced by wild-type HIPK2, but not by the kinase-defective mutant. In addition, FHL2 increased the p53-dependent transcriptional activation and had an additive effect on the activation when coexpressed with HIPK2, which was again not observed with the kinase-defective mutant of HIPK2. Finally, we found a ternary complex of p53, HIPK2, and FHL2 using IP, and their recruitment to the p53-responsive p21Waf1 promoter in chromatin IP assays. Overall, our findings indicate that FHL2 can also regulate p53 via a direct association with HIPK2.\n",
      "\n",
      "\n"
     ]
    }
   ],
   "source": [
    "f = open('uniquepubIDs.csv','r')\n",
    "\n",
    "lines = f.readlines()\n",
    "\n",
    "l_pids = lines[0].strip().split(',')\n",
    "\n",
    "# print(len(set(l_pids)))\n",
    "\n",
    "f.close()\n",
    "\n",
    "\n",
    "fstr = open('pud2text.csv','w')\n",
    "\n",
    "\n",
    "for pubID in list(set(l_pids))[1:10]:\n",
    "    print(pubID)\n",
    "    fstr.write('%s|' %pubID)\n",
    "    d_meta = literature.pubmed_client.get_metadata_for_ids(pubID)    \n",
    "    for x in d_meta.values():\n",
    "#         out_str += 'Title: \"%s\"' %x['title'] \n",
    "        print('Title: \"%s\"' %x['title'])\n",
    "        fstr.write('%s|' %x['title'])\n",
    "        title = x['title']\n",
    "        \n",
    "        authorstr = ''\n",
    "        for a in x['authors']:\n",
    "            authorstr += a + ','\n",
    "        authorstr = 'Authors: ' + authorstr[:-1] #+'<br>'    \n",
    "#         print()\n",
    "        print('Authors: %s' %authorstr[:-1])\n",
    "        fstr.write('%s|' %authorstr.split(':')[1])\n",
    "# #     print(literature.pubmed_client.get_abstract(pubID,prepend_title = False))\n",
    "    abstract = literature.pubmed_client.get_abstract(pubID,prepend_title = False)    \n",
    "    print('Abstract: %s' %abstract)\n",
    "    fstr.write('%s\\n' %abstract)\n",
    "\n",
    "\n",
    "# #     titles = literature.pubmed_client.get_title(pubID) \n",
    "    print('\\n')\n",
    "#     print(pubID,title,authorstr[:-1],abstract)\n",
    "    \n",
    "    \n",
    "    \n",
    "    \n",
    "fstr.close()"
   ]
  },
  {
   "cell_type": "code",
   "execution_count": 82,
   "metadata": {},
   "outputs": [
    {
     "name": "stdout",
     "output_type": "stream",
     "text": [
      "125983 2\n"
     ]
    }
   ],
   "source": [
    "# check pud2text.csv\n",
    "\n",
    "f = open('pud2text.csv','r')\n",
    "\n",
    "lines = f.readlines()\n",
    "c = 1\n",
    "for line in lines:\n",
    "    count_chars = len(line.split('|'))\n",
    "    if count_chars != 4:\n",
    "        print(c,count_chars)\n",
    "    c += 1"
   ]
  },
  {
   "cell_type": "code",
   "execution_count": 88,
   "metadata": {},
   "outputs": [
    {
     "name": "stdout",
     "output_type": "stream",
     "text": [
      "{20171287: 'Voxelwise genome-wide association study (vGWAS).', 22623531: 'Functional genomics identifies therapeutic targets for MYC-driven cancer.', 15489334: 'The status, quality, and expansion of the NIH full-length cDNA project: the Mammalian Gene Collection (MGC).', 10579309: 'Characterization of the antiapoptotic Bcl-2 family member myeloid cell leukemia-1 (Mcl-1) and the stimulation of its message by gonadotropins in the rat ovary.', 16772296: 'Bok, Bcl-2-related Ovarian Killer, Is Cell Cycle-regulated and Sensitizes to Stress-induced Apoptosis.', 10811653: 'Drosophila pro-apoptotic Bcl-2/Bax homologue reveals evolutionary conservation of cell death mechanisms.'}\n"
     ]
    }
   ],
   "source": [
    "entrez = 666\n",
    "d_pid_tlt = genent2pubtitle(entrez)\n",
    "\n",
    "print(l_tlt)"
   ]
  },
  {
   "cell_type": "code",
   "execution_count": 92,
   "metadata": {},
   "outputs": [
    {
     "name": "stdout",
     "output_type": "stream",
     "text": [
      " Tian,Li,Zhang,Li,Gao<br>Osteosarcoma (OS) is a common primary malignancy in children and adolescents with relative high survival rate after chemotherapy. While, the toxicity of chemotherapy and personalized different response to chemotherapy makes it difficult for the selection of therapeutics and improvement of diagnosis. In this study, we conducted a combined analysis of two types of microarray datasets (gene expression and DNA methylation) from the Gene Expression Omnibus (GEO). Differential methylation sites (DMS) were identified by the IMA package and differential expression genes (DEGs) were screened out via the limma package. A total of 11,242 DMS (corresponding to 3080 genes (DMGs)) and 337 DEGs, with 40 overlaps (OS genes) between DEGs and DMGs, were identified. Enriched functions of OS genes were obtained through the Database for Annotation, Visualization and Integrated Discovery (DAVID). The OS genes were mainly enriched in the biological processes related to inflammatory/immune response and Pertussis pathways and Hematopoietic cell lineage pathways. Besides, OS-specific disease network was obtained, and found that UBS and NRF1 were regulated by multiple OS genes. Kaplan Meier analysis of OS genes identified BHMT2, DOCK2, DNALI1 and RIPK3 as significant OS survival-related genes. SEMA3A and PRAME are included in the 40 OS genes and within the top 10 most up-regulated DEGs. Their expression changes were further validated in U2OS osteosarcoma cell lines and hOB normal cell lines through quantitative PCR (qPCR) and consistent result with microarray analysis was obtained. Based on this study, some novel targets were identified for OS, which would be helpful in its early diagnosis and treatment.\n"
     ]
    }
   ],
   "source": [
    "pubid = 29407229\n",
    "\n",
    "l_str = pubid2authorabstract(pubid)\n",
    "\n",
    "print(l_str)"
   ]
  },
  {
   "cell_type": "markdown",
   "metadata": {},
   "source": [
    "# Get list of genes for a search string in article titles"
   ]
  },
  {
   "cell_type": "code",
   "execution_count": 107,
   "metadata": {},
   "outputs": [
    {
     "name": "stdout",
     "output_type": "stream",
     "text": [
      "634\n"
     ]
    }
   ],
   "source": [
    "searchstr = 'immunodeficiency'\n",
    "l_entrez = genesfromstr(searchstr)\n",
    "\n",
    "print(len(l_entrez))\n"
   ]
  },
  {
   "cell_type": "code",
   "execution_count": null,
   "metadata": {},
   "outputs": [],
   "source": []
  },
  {
   "cell_type": "code",
   "execution_count": 115,
   "metadata": {},
   "outputs": [
    {
     "name": "stdout",
     "output_type": "stream",
     "text": [
      "54790\n"
     ]
    }
   ],
   "source": [
    "symbol = 'TET2'\n",
    "print(d_sym_ent[symbol])"
   ]
  },
  {
   "cell_type": "code",
   "execution_count": null,
   "metadata": {},
   "outputs": [],
   "source": []
  }
 ],
 "metadata": {
  "kernelspec": {
   "display_name": "Python 3",
   "language": "python",
   "name": "python3"
  },
  "language_info": {
   "codemirror_mode": {
    "name": "ipython",
    "version": 3
   },
   "file_extension": ".py",
   "mimetype": "text/x-python",
   "name": "python",
   "nbconvert_exporter": "python",
   "pygments_lexer": "ipython3",
   "version": "3.7.0"
  }
 },
 "nbformat": 4,
 "nbformat_minor": 2
}
