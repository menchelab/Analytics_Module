{
 "cells": [
  {
   "cell_type": "code",
   "execution_count": 1,
   "metadata": {},
   "outputs": [],
   "source": [
    "# import\n",
    "import pandas as pd\n",
    "import json\n",
    "import networkx"
   ]
  },
  {
   "cell_type": "code",
   "execution_count": 2,
   "metadata": {},
   "outputs": [],
   "source": [
    "import pymysql\n",
    "import pymysql.cursors\n",
    "\n",
    "dbconf = {\"host\": \"vrnetzer.westeurope.cloudapp.azure.com\",\n",
    "          'user': 'readonly',\n",
    "          'password': 'ra4Roh7ohdee',\n",
    "          'database': 'ppi',\n",
    "}\n",
    "\n",
    "def execute_query(query, db = None):\n",
    "    connection = pymysql.connect(host=dbconf[\"host\"],\n",
    "                             user=dbconf[\"user\"],\n",
    "                             password=dbconf[\"password\"],\n",
    "                             db = dbconf['database'],\n",
    "                             charset='utf8mb4',\n",
    "                             cursorclass=pymysql.cursors.DictCursor)\n",
    "    cursor = connection.cursor()\n",
    "    #print(query)\n",
    "    cursor.execute(query)\n",
    "    connection.commit()\n",
    "    connection.close()\n",
    "    return cursor"
   ]
  },
  {
   "cell_type": "code",
   "execution_count": 3,
   "metadata": {},
   "outputs": [],
   "source": [
    "# list comparisons\n",
    "fn_seeds = 'zSeeds_20210127oldFrSQL.txt'\n",
    "fn_variants = 'zVariants_20210127oldFrSQL.txt'\n",
    "\n",
    "df_seeds = pd.read_csv(fn_seeds, sep='\\t')\n",
    "df_variants = pd.read_csv(fn_variants, sep='\\t')\n",
    "vrNetVariants = set(df_variants['symbol'])\n",
    "vrNetSeeds = set(df_seeds['symbol'])\n",
    "\n",
    "juliaVariants = set(['DDX31','DLX6','DOCK2','DOK3','FAM196B',\n",
    "                     'GALR3','IL1RL2','MED22','NPDC1','PLEKHA2',\n",
    "                     'PRSS48','SFSWAP','SLC2A8','TMEM132D','ZAN'])\n",
    "juliaSeeds=set(['IL2RG','JAK3','IL7R','PTPRC','CD3D','CD3E','CD247','CORO1A','pp36','RAG1',\n",
    "                'RAG2','DCLRE1C','PRKCD','NHEJ1','LIG4','AK2','ADA','CD40LG','CD40','ICOS',\n",
    "                'CD3G1','CD8A','ZAP70','TAP11','TAP21','TAPBP','B2M','CIITA','RFXANK','RFX5',\n",
    "                'RFXAP','RHOH','MAP3K14','RELB','WAS','WIPF1','ARPC1B','ATM','NBN1','BLM',\n",
    "                'DNMT3B','ZBTB24','CDCA7','HELLS','PMS2','RNF168','MCM4','POLE','POLE2','LIG11',\n",
    "                'NSMCE3','ERCC6L2','GINS1','TBX1','TBX1','CHD7','SEMA3E','FOXN1','DGS2','RMRP',\n",
    "                'SMARCAL1','MYSM1','RNU4ATAC','STAT3','SPINK5','PGM3','DKC1','NHP2','NOP10','RTEL1',\n",
    "                'TERC','TERT','TINF2','ACD','DCLRE1B','PARN','WRAP53','bA541N10.2','CTC1','TCN2',\n",
    "                'MTHFD1','IKBKG','NFKBIA','ORAI1','STIM1','PNP1','TTC7A','SP110','EPG5','RBCK1',\n",
    "                'RNF31','CCBE1','FAT4','STAT5B','KMT2D','KDM6A','BTK','IGHM1','IGLL1','CD79A',\n",
    "                'CD79B','BLNK','PIK3R1','TCF31','PIK3CD1','PTEN','CD19','CD81','MS4A11','CR2',\n",
    "                'TNFRSF13B','TNFRSF13C','TNFSF12','MOGS','TRNT1','RNF170','NFKB1','IKZF1','IRF2BP2','ATP6AP1',\n",
    "                'AICDA','UNG','INO80','MSH6','IGKC','CARD11','PRF11','UNC13D','STX11','STXBP2',\n",
    "                'FAAP24','LYST','RAB27A','AP3B1','FOXP3','IL2RA','CTLA4','LRBA','STAT3','BACH2',\n",
    "                'AIRE','ITCH','ZAP70','TPP2','JAK1','PEPD','FAS1','FASLG','CASP10','CASP8',\n",
    "                'FADD','IL10','IL10RA','IL10RB','NFAT5','SH2D1A','XIAP','RASGRP1','CD70','CARMIL2',\n",
    "                'ITK','PRKCD','ELANE','GFI1','HAX1','G6PC3','VPS45','SLC37A4','WAS','LAMTOR2',\n",
    "                'TAZ1','VPS13B','USB1','JAGN1','CLPB','CSF3R','SMARCD2','HYOU1','ITGB2','SLC35C1',\n",
    "                'FERMT3','RAC2','ACTB1','FPR1','CTSC','CEBPB','SBDS','WDR1','CFTR','DNAJC21',\n",
    "                'MRTFA','CYBB','CYBA','NCF2','NCF4','G6PD1','GATA2','CSF2RB','CSF2RA','IL12RB1',\n",
    "                'IL12B','IFNGR1','IFNGR2','STAT1','CYBB','IRF8','IRF8','TYK2','ISG15','RORC',\n",
    "                'JAK1','TMC6','TMC8','CXCR4','STAT1','STAT2','IRF7','IFNAR2','FCGR3A1','IFIH1',\n",
    "                'TLR3','UNC93B1','TRAF3','TICAM1','TBK1','CARD9','IL17RA','IL17RC','IL17F','STAT1',\n",
    "                'TRAF3IP2','IRAK4','MYD88','HMOX1','APOL1','NBAS','RANBP2','CLCN7','SNX10','OSTM1',\n",
    "                'PLEKHM1','TCIRG1','TNFRSF11A','TNFSF11','NCSTN','PSEN1','PSENEN','TREX1','RNASEH2B',\n",
    "                'RNASEH2C','RNASEH2A','SAMHD1','ADAR','IFIH1','ACP5','TMEM173','USP18','DDX58','OTULIN',\n",
    "                'SNEDS','AP1S3','C1QA','C1QB','C1QC','C1R','C1S','C4A','C3','C3',\n",
    "                'C5','C61','C71','C8A','C8G','C8B','C91','MASP2','FCN3','SERPING1',\n",
    "                'CFB','CFB','CFD1','CFP','CFI','CFH','THBD','CD46','CD59','CD55'])"
   ]
  },
  {
   "cell_type": "code",
   "execution_count": 4,
   "metadata": {},
   "outputs": [
    {
     "name": "stdout",
     "output_type": "stream",
     "text": [
      "13\n",
      "271\n",
      "15\n",
      "276\n"
     ]
    }
   ],
   "source": [
    "print(len(vrNetVariants))\n",
    "print(len(vrNetSeeds))\n",
    "print(len(juliaVariants))\n",
    "print(len(juliaSeeds))"
   ]
  },
  {
   "cell_type": "code",
   "execution_count": 5,
   "metadata": {},
   "outputs": [
    {
     "name": "stdout",
     "output_type": "stream",
     "text": [
      "{'PRSS48', 'DOK3', 'DOCK2', 'SLC2A8', 'GALR3', 'DDX31', 'TMEM132D', 'PLEKHA2', 'DLX6', 'IL1RL2', 'MED22', 'NPDC1', 'SFSWAP'}\n",
      "set()\n",
      "{'FAM196B', 'ZAN'}\n"
     ]
    }
   ],
   "source": [
    "# variants\n",
    "print(vrNetVariants.intersection(juliaVariants))\n",
    "print(vrNetVariants - juliaVariants)\n",
    "print(juliaVariants - vrNetVariants)"
   ]
  },
  {
   "cell_type": "code",
   "execution_count": 6,
   "metadata": {},
   "outputs": [
    {
     "name": "stdout",
     "output_type": "stream",
     "text": [
      "{'IGKC', 'NOP10', 'CD3D', 'PRKCD', 'SAMHD1', 'STAT1', 'RFXAP', 'CLCN7', 'CD81', 'IKZF1', 'CD40', 'CD8A', 'RNF31', 'NHP2', 'WDR1', 'FOXN1', 'CR2', 'IFNGR2', 'CIITA', 'KDM6A', 'NFAT5', 'DNAJC21', 'XIAP', 'PMS2', 'BLM', 'SP110', 'CDCA7', 'TRNT1', 'TMC8', 'JAGN1', 'AP1S3', 'INO80', 'NCSTN', 'TBK1', 'RAB27A', 'NHEJ1', 'AICDA', 'WAS', 'MASP2', 'NCF2', 'FCN3', 'RNASEH2A', 'SLC37A4', 'NCF4', 'ADAR', 'C1S', 'UNC13D', 'ERCC6L2', 'MYD88', 'USB1', 'STX11', 'IRF2BP2', 'MOGS', 'C1R', 'RANBP2', 'CLPB', 'TPP2', 'TRAF3', 'FAAP24', 'C8A', 'C4A', 'TICAM1', 'UNC93B1', 'CD3E', 'CARMIL2', 'STXBP2', 'SH2D1A', 'RNF170', 'TCIRG1', 'ACP5', 'WIPF1', 'C8B', 'TMEM173', 'C1QC', 'RAC2', 'PTPRC', 'JAK1', 'SNX10', 'CARD9', 'ORAI1', 'IL10RB', 'OTULIN', 'IFNAR2', 'RFXANK', 'BTK', 'TLR3', 'PSEN1', 'AK2', 'IFNGR1', 'C1QB', 'IRF8', 'SMARCD2', 'VPS45', 'TCN2', 'ELANE', 'CASP10', 'PARN', 'CTSC', 'CD247', 'MSH6', 'HELLS', 'TBX1', 'APOL1', 'CHD7', 'CD19', 'CXCR4', 'LAMTOR2', 'CFB', 'CFP', 'IL10RA', 'CD46', 'FADD', 'TMC6', 'MYSM1', 'ACD', 'TNFSF12', 'ITK', 'TRAF3IP2', 'TREX1', 'CD40LG', 'SPINK5', 'CTC1', 'CYBA', 'STAT2', 'TNFRSF13C', 'IL10', 'FAT4', 'CCBE1', 'AIRE', 'IL17RA', 'ITGB2', 'RBCK1', 'PIK3R1', 'RTEL1', 'RNASEH2B', 'BACH2', 'POLE2', 'VPS13B', 'IGLL1', 'CASP8', 'HYOU1', 'MTHFD1', 'USP18', 'PEPD', 'CD59', 'HMOX1', 'THBD', 'IL7R', 'SBDS', 'FPR1', 'STIM1', 'TINF2', 'JAK3', 'DDX58', 'NFKBIA', 'RASGRP1', 'ITCH', 'IRF7', 'IRAK4', 'IFIH1', 'RELB', 'STAT5B', 'ATM', 'GINS1', 'FERMT3', 'CD55', 'PGM3', 'CSF2RB', 'PSENEN', 'RNF168', 'OSTM1', 'CYBB', 'LIG4', 'B2M', 'NSMCE3', 'NBAS', 'CSF2RA', 'TAPBP', 'CFTR', 'PTEN', 'SEMA3E', 'RFX5', 'RAG1', 'IL17F', 'IL12RB1', 'RAG2', 'IL12B', 'LYST', 'CORO1A', 'KMT2D', 'ADA', 'ICOS', 'IL17RC', 'FOXP3', 'C1QA', 'STAT3', 'ARPC1B', 'IL2RA', 'HAX1', 'CEBPB', 'ATP6AP1', 'AP3B1', 'RNASEH2C', 'EPG5', 'CARD11', 'UNG', 'MAP3K14', 'DNMT3B', 'RHOH', 'LRBA', 'CD70', 'C8G', 'TERT', 'WRAP53', 'CD79B', 'CFH', 'DCLRE1C', 'RORC', 'TNFSF11', 'NFKB1', 'FASLG', 'PLEKHM1', 'DKC1', 'TNFRSF11A', 'GATA2', 'TNFRSF13B', 'C5', 'MCM4', 'DCLRE1B', 'CFI', 'TTC7A', 'ZAP70', 'SLC35C1', 'BLNK', 'IKBKG', 'CD79A', 'C3', 'TYK2', 'GFI1', 'SERPING1', 'POLE', 'CTLA4', 'ISG15', 'IL2RG', 'ZBTB24', 'CSF3R', 'SMARCAL1'}\n"
     ]
    }
   ],
   "source": [
    "# seeds\n",
    "print(vrNetSeeds.intersection(juliaSeeds))"
   ]
  },
  {
   "cell_type": "code",
   "execution_count": 7,
   "metadata": {},
   "outputs": [
    {
     "name": "stdout",
     "output_type": "stream",
     "text": [
      "{'TAZ', 'PRF1', 'G6PD', 'PNP', 'MKL1', 'FCGR3A', 'CFD', 'NBN', 'FAS', 'C9', 'STN1', 'TAP1', 'CD3G', 'C7', 'TCF3', 'C6', 'MS4A1', 'IGHM', 'TAP2', 'LAT', 'CECR1', 'PIK3CD', 'LIG1', 'ACTB'}\n",
      "24\n"
     ]
    }
   ],
   "source": [
    "# seeds EXTRA in vrnet\n",
    "print(vrNetSeeds - juliaSeeds)\n",
    "print(len(vrNetSeeds - juliaSeeds))"
   ]
  },
  {
   "cell_type": "code",
   "execution_count": 8,
   "metadata": {},
   "outputs": [
    {
     "name": "stdout",
     "output_type": "stream",
     "text": [
      "{'ACTB1', 'TAZ1', 'PNP1', 'CD3G1', 'TAP11', 'NBN1', 'RNU4ATAC', 'G6PD1', 'FCGR3A1', 'DGS2', 'IGHM1', 'C91', 'LIG11', 'bA541N10.2', 'C71', 'RMRP', 'MS4A11', 'PIK3CD1', 'FAS1', 'PRF11', 'TERC', 'TAP21', 'pp36', 'G6PC3', 'MRTFA', 'SNEDS', 'TCF31', 'CFD1', 'C61'}\n",
      "29\n"
     ]
    }
   ],
   "source": [
    "# seeds EXTRA in Julia\n",
    "print(juliaSeeds - vrNetSeeds)\n",
    "print(len(juliaSeeds - vrNetSeeds))"
   ]
  },
  {
   "cell_type": "code",
   "execution_count": 9,
   "metadata": {},
   "outputs": [
    {
     "name": "stdout",
     "output_type": "stream",
     "text": [
      "{\"node_ids\": [9587, 1768, 5948, 8106, 2310, 14775, 14793, 6204, 16499, 16835, 17510, 18047, 18459, 18788, 2827, 291, 2897, 941, 1777, 1782, 1800, 1805, 1811, 2294, 2322, 2369, 2477, 2485, 2495, 4338, 4336, 11197, 3457, 3493, 12597, 4302, 4563, 4538, 4544, 1401, 1417, 17462, 10874, 4675, 1419, 4766, 4776, 4798, 4846, 3190, 5767, 141, 15952, 16310, 18577, 6114, 7209, 17528, 6949, 13430, 8108, 8444, 9080, 9089, 9099, 10506, 9572, 9769, 10050, 10176, 10184, 5225, 5226, 6305, 12124, 11173, 12820, 14149, 12516, 11077, 11787, 14750, 1418, 8277, 14799, 8305, 2015, 16764, 15065, 15286, 15356, 12192, 4700, 15937, 16063, 4717, 16290, 6135, 16340, 16343, 16345, 16512, 16595, 16652, 2290, 16653, 16654, 16655, 16660, 16661, 4347, 16674, 5780, 16698, 16701, 16713, 11109, 5463, 7904, 16780, 16291, 15195, 2710, 16811, 16826, 11081, 16846, 16848, 1931, 17564, 12821, 17172, 5121, 6599, 17366, 17417, 17457, 9437, 17653, 17695, 17768, 12575, 3779, 17844, 17845, 4876, 17929, 17944, 17946, 10151, 3025, 3026, 17857, 10274, 7846, 9628, 18419, 18555, 18610, 18665, 12233, 18783, 18811, 18812, 19009, 19085, 13045, 19157, 19216, 19282, 19316, 19335, 19336, 19350, 19379, 3925, 19435, 19462, 19463, 19464, 17373, 5888, 10100, 8892, 10883, 9823, 4074, 76, 3947, 3981, 6534, 407, 1704, 486, 6912, 15201, 746, 751, 3436, 16316, 3663, 968, 969, 970, 973, 985, 1015, 1029, 1121, 1137, 1144, 1189, 1194, 1234, 1283, 5772, 1318, 1341, 5509, 7120, 11447, 1390, 5621, 5293, 1409, 1410, 1478, 1492, 2428, 1696, 5064, 6657, 1795, 8300, 2452, 1883, 10196, 1911, 7935, 3159, 1994, 2006, 1999, 9959, 16627, 2073, 7547], \"route\": \"saveSelection\", \"selection_name\": \"patient_seeds\"}\n"
     ]
    }
   ],
   "source": [
    "# create JSONs from Julia's list\n",
    "\n",
    "# get jenIDs\n",
    "query = \"\"\"\n",
    "    SELECT id FROM ppi.nodes\n",
    "    WHERE symbol in %s\n",
    "\"\"\" % str(tuple(juliaSeeds))\n",
    "data = execute_query(query).fetchall()\n",
    "\n",
    "# massage to desired format, which is\n",
    "# {\"node_ids\":[123,234,5554,420,69],\"route\": \"saveSelection\",\"selection_name\": \"somecoolName\"}\n",
    "currObject_dict = {\"node_ids\": [x['id'] for x in data],\n",
    "                   \"route\": 'saveSelection',\n",
    "                   \"selection_name\": 'patient_seeds'}\n",
    "currObject_json = json.dumps(currObject_dict)\n",
    "print(currObject_json)\n",
    "\n",
    "with open('patient_seeds.json', 'w') as json_file:\n",
    "    json.dump(currObject_json, json_file)"
   ]
  },
  {
   "cell_type": "code",
   "execution_count": 10,
   "metadata": {},
   "outputs": [
    {
     "name": "stdout",
     "output_type": "stream",
     "text": [
      "{\"node_ids\": [4530, 12388, 12890, 9224, 15266, 16688, 1054, 18026, 2988, 9259, 464, 2661, 12583], \"route\": \"saveSelection\", \"selection_name\": \"patient_variants\"}\n"
     ]
    }
   ],
   "source": [
    "# create JSONs from Julia's list\n",
    "\n",
    "# get jenIDs\n",
    "query = \"\"\"\n",
    "    SELECT id FROM ppi.nodes\n",
    "    WHERE symbol in %s\n",
    "\"\"\" % str(tuple(juliaVariants))\n",
    "data = execute_query(query).fetchall()\n",
    "\n",
    "# massage to desired format, which is\n",
    "# {\"node_ids\":[123,234,5554,420,69],\"route\": \"saveSelection\",\"selection_name\": \"somecoolName\"}\n",
    "currObject_dict = {\"node_ids\": [x['id'] for x in data],\n",
    "                   \"route\": 'saveSelection',\n",
    "                   \"selection_name\": 'patient_variants'}\n",
    "currObject_json = json.dumps(currObject_dict)\n",
    "print(currObject_json)\n",
    "\n",
    "with open('patient_variants.json', 'w') as json_file:\n",
    "    json.dump(currObject_json, json_file)"
   ]
  }
 ],
 "metadata": {
  "kernelspec": {
   "display_name": "Python 3",
   "language": "python",
   "name": "python3"
  },
  "language_info": {
   "codemirror_mode": {
    "name": "ipython",
    "version": 3
   },
   "file_extension": ".py",
   "mimetype": "text/x-python",
   "name": "python",
   "nbconvert_exporter": "python",
   "pygments_lexer": "ipython3",
   "version": "3.7.6"
  }
 },
 "nbformat": 4,
 "nbformat_minor": 4
}
